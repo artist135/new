{
  "cells": [
    {
      "cell_type": "code",
      "execution_count": 12,
      "id": "72ddb2b4",
      "metadata": {},
      "outputs": [],
      "source": [
        "## importing libraries\n",
        "\n",
        "import pandas as pd\n",
        "import warnings\n",
        "import datetime \n",
        "warnings.filterwarnings('ignore')"
      ]
    },
    {
      "cell_type": "code",
      "execution_count": 13,
      "id": "3910c060",
      "metadata": {},
      "outputs": [],
      "source": [
        "## loading all customer data\n",
        "\n",
        "customer = pd.read_csv('Client master dt 17-10-2023.csv')\n",
        "AP_who_are_customer = pd.read_excel(\"AP_UCC list.xlsx\")\n",
        "employee_customer = pd.read_excel('Employee_UCC List.xlsx')\n",
        "outside_customer = pd.read_csv('outside_customer.csv')"
      ]
    },
    {
      "cell_type": "code",
      "execution_count": 14,
      "id": "014117b6",
      "metadata": {},
      "outputs": [
        {
          "data": {
            "text/html": [
              "<div>\n",
              "<style scoped>\n",
              "    .dataframe tbody tr th:only-of-type {\n",
              "        vertical-align: middle;\n",
              "    }\n",
              "\n",
              "    .dataframe tbody tr th {\n",
              "        vertical-align: top;\n",
              "    }\n",
              "\n",
              "    .dataframe thead th {\n",
              "        text-align: right;\n",
              "    }\n",
              "</style>\n",
              "<table border=\"1\" class=\"dataframe\">\n",
              "  <thead>\n",
              "    <tr style=\"text-align: right;\">\n",
              "      <th></th>\n",
              "      <th>Client Code</th>\n",
              "      <th>Ucc Code</th>\n",
              "      <th>Name</th>\n",
              "      <th>Branch</th>\n",
              "      <th>Ac Open Date</th>\n",
              "    </tr>\n",
              "  </thead>\n",
              "  <tbody>\n",
              "    <tr>\n",
              "      <th>0</th>\n",
              "      <td>AAB803</td>\n",
              "      <td>AAB803</td>\n",
              "      <td>ABHISHEK GITE</td>\n",
              "      <td>HO</td>\n",
              "      <td>07-Sep-23</td>\n",
              "    </tr>\n",
              "    <tr>\n",
              "      <th>1</th>\n",
              "      <td>AAB797</td>\n",
              "      <td>AAB797</td>\n",
              "      <td>NEHA JAIN</td>\n",
              "      <td>MB01</td>\n",
              "      <td>07-Sep-23</td>\n",
              "    </tr>\n",
              "    <tr>\n",
              "      <th>2</th>\n",
              "      <td>AAB781</td>\n",
              "      <td>AAB781</td>\n",
              "      <td>JITENDRA ADVANI</td>\n",
              "      <td>HO</td>\n",
              "      <td>04-Sep-23</td>\n",
              "    </tr>\n",
              "    <tr>\n",
              "      <th>3</th>\n",
              "      <td>AAB630</td>\n",
              "      <td>AAB630</td>\n",
              "      <td>PRIYANKA VIJAY MATAI</td>\n",
              "      <td>DU01</td>\n",
              "      <td>18-Aug-23</td>\n",
              "    </tr>\n",
              "    <tr>\n",
              "      <th>4</th>\n",
              "      <td>AAB761</td>\n",
              "      <td>AAB761</td>\n",
              "      <td>RUCHITA HARISHANKAR MAURYA</td>\n",
              "      <td>HO</td>\n",
              "      <td>01-Sep-23</td>\n",
              "    </tr>\n",
              "  </tbody>\n",
              "</table>\n",
              "</div>"
            ],
            "text/plain": [
              "  Client Code Ucc Code                        Name Branch Ac Open Date\n",
              "0      AAB803   AAB803               ABHISHEK GITE     HO    07-Sep-23\n",
              "1      AAB797   AAB797                   NEHA JAIN   MB01    07-Sep-23\n",
              "2      AAB781   AAB781             JITENDRA ADVANI     HO    04-Sep-23\n",
              "3      AAB630   AAB630        PRIYANKA VIJAY MATAI   DU01    18-Aug-23\n",
              "4      AAB761   AAB761  RUCHITA HARISHANKAR MAURYA     HO    01-Sep-23"
            ]
          },
          "execution_count": 14,
          "metadata": {},
          "output_type": "execute_result"
        }
      ],
      "source": [
        "customer.head()"
      ]
    },
    {
      "cell_type": "code",
      "execution_count": 15,
      "id": "1fb27a42",
      "metadata": {},
      "outputs": [
        {
          "data": {
            "text/html": [
              "<div>\n",
              "<style scoped>\n",
              "    .dataframe tbody tr th:only-of-type {\n",
              "        vertical-align: middle;\n",
              "    }\n",
              "\n",
              "    .dataframe tbody tr th {\n",
              "        vertical-align: top;\n",
              "    }\n",
              "\n",
              "    .dataframe thead th {\n",
              "        text-align: right;\n",
              "    }\n",
              "</style>\n",
              "<table border=\"1\" class=\"dataframe\">\n",
              "  <thead>\n",
              "    <tr style=\"text-align: right;\">\n",
              "      <th></th>\n",
              "      <th>Client Code</th>\n",
              "      <th>Ucc Code</th>\n",
              "      <th>Name</th>\n",
              "      <th>Branch</th>\n",
              "      <th>Ac Open Date</th>\n",
              "    </tr>\n",
              "  </thead>\n",
              "  <tbody>\n",
              "    <tr>\n",
              "      <th>1198</th>\n",
              "      <td>AAA297</td>\n",
              "      <td>AAA297</td>\n",
              "      <td>KIRAN UMESH DESHPANDE</td>\n",
              "      <td>HO</td>\n",
              "      <td>23-Dec-22</td>\n",
              "    </tr>\n",
              "    <tr>\n",
              "      <th>1199</th>\n",
              "      <td>AAA950</td>\n",
              "      <td>AAA950</td>\n",
              "      <td>VARUN NILESH SURANA</td>\n",
              "      <td>HO</td>\n",
              "      <td>29-May-23</td>\n",
              "    </tr>\n",
              "    <tr>\n",
              "      <th>1200</th>\n",
              "      <td>AAA811</td>\n",
              "      <td>AAA811</td>\n",
              "      <td>JAYALAXMI RAMESH BHUJANG</td>\n",
              "      <td>HO</td>\n",
              "      <td>24-May-23</td>\n",
              "    </tr>\n",
              "    <tr>\n",
              "      <th>1201</th>\n",
              "      <td>AAA860</td>\n",
              "      <td>AAA860</td>\n",
              "      <td>JUNERI ALOK MEHTA</td>\n",
              "      <td>HO</td>\n",
              "      <td>23-May-23</td>\n",
              "    </tr>\n",
              "    <tr>\n",
              "      <th>1202</th>\n",
              "      <td>AAA901</td>\n",
              "      <td>AAA901</td>\n",
              "      <td>JITENDRAKUMAR SIPANI</td>\n",
              "      <td>SS02</td>\n",
              "      <td>26-May-23</td>\n",
              "    </tr>\n",
              "  </tbody>\n",
              "</table>\n",
              "</div>"
            ],
            "text/plain": [
              "     Client Code Ucc Code                      Name Branch Ac Open Date\n",
              "1198      AAA297   AAA297     KIRAN UMESH DESHPANDE     HO    23-Dec-22\n",
              "1199      AAA950   AAA950       VARUN NILESH SURANA     HO    29-May-23\n",
              "1200      AAA811   AAA811  JAYALAXMI RAMESH BHUJANG     HO    24-May-23\n",
              "1201      AAA860   AAA860         JUNERI ALOK MEHTA     HO    23-May-23\n",
              "1202      AAA901   AAA901      JITENDRAKUMAR SIPANI   SS02    26-May-23"
            ]
          },
          "execution_count": 15,
          "metadata": {},
          "output_type": "execute_result"
        }
      ],
      "source": [
        "customer.tail()"
      ]
    },
    {
      "cell_type": "code",
      "execution_count": 16,
      "id": "d57a7ab1",
      "metadata": {},
      "outputs": [],
      "source": [
        "total_number_customer = customer['Client Code'].count()"
      ]
    },
    {
      "cell_type": "code",
      "execution_count": 17,
      "id": "5fddd618",
      "metadata": {},
      "outputs": [
        {
          "data": {
            "text/plain": [
              "1203"
            ]
          },
          "execution_count": 17,
          "metadata": {},
          "output_type": "execute_result"
        }
      ],
      "source": [
        "total_number_customer"
      ]
    },
    {
      "cell_type": "code",
      "execution_count": 18,
      "id": "7f19d33d",
      "metadata": {},
      "outputs": [],
      "source": [
        "# Creating a function to drop certain rows based on certain certain condition\n",
        "\n",
        "def drop_rows_by_condition(dataframe, condition):\n",
        "    return dataframe[~condition]"
      ]
    },
    {
      "cell_type": "code",
      "execution_count": 19,
      "id": "38d16a2f",
      "metadata": {},
      "outputs": [],
      "source": [
        "#droping customer with branch HO and HO01\n",
        "AP_Customer = drop_rows_by_condition(customer, (customer['Branch'] == 'HO') | (customer['Branch'] == 'HO01'))"
      ]
    },
    {
      "cell_type": "code",
      "execution_count": 20,
      "id": "6a4662c2",
      "metadata": {},
      "outputs": [
        {
          "data": {
            "text/html": [
              "<div>\n",
              "<style scoped>\n",
              "    .dataframe tbody tr th:only-of-type {\n",
              "        vertical-align: middle;\n",
              "    }\n",
              "\n",
              "    .dataframe tbody tr th {\n",
              "        vertical-align: top;\n",
              "    }\n",
              "\n",
              "    .dataframe thead th {\n",
              "        text-align: right;\n",
              "    }\n",
              "</style>\n",
              "<table border=\"1\" class=\"dataframe\">\n",
              "  <thead>\n",
              "    <tr style=\"text-align: right;\">\n",
              "      <th></th>\n",
              "      <th>Client Code</th>\n",
              "      <th>Ucc Code</th>\n",
              "      <th>Name</th>\n",
              "      <th>Branch</th>\n",
              "      <th>Ac Open Date</th>\n",
              "    </tr>\n",
              "  </thead>\n",
              "  <tbody>\n",
              "    <tr>\n",
              "      <th>1</th>\n",
              "      <td>AAB797</td>\n",
              "      <td>AAB797</td>\n",
              "      <td>NEHA JAIN</td>\n",
              "      <td>MB01</td>\n",
              "      <td>07-Sep-23</td>\n",
              "    </tr>\n",
              "    <tr>\n",
              "      <th>3</th>\n",
              "      <td>AAB630</td>\n",
              "      <td>AAB630</td>\n",
              "      <td>PRIYANKA VIJAY MATAI</td>\n",
              "      <td>DU01</td>\n",
              "      <td>18-Aug-23</td>\n",
              "    </tr>\n",
              "    <tr>\n",
              "      <th>7</th>\n",
              "      <td>AAB908</td>\n",
              "      <td>AAB908</td>\n",
              "      <td>SHITAL KANTILAL KHATRANI</td>\n",
              "      <td>RSS04</td>\n",
              "      <td>26-Sep-23</td>\n",
              "    </tr>\n",
              "    <tr>\n",
              "      <th>13</th>\n",
              "      <td>AAB936</td>\n",
              "      <td>AAB936</td>\n",
              "      <td>JAYSHREEBEN ANANTRAI RAVAL</td>\n",
              "      <td>AT01</td>\n",
              "      <td>04-Oct-23</td>\n",
              "    </tr>\n",
              "    <tr>\n",
              "      <th>15</th>\n",
              "      <td>AAB980</td>\n",
              "      <td>AAB980</td>\n",
              "      <td>JAYDIP VASANT GODSE</td>\n",
              "      <td>RKG02</td>\n",
              "      <td>12-Oct-23</td>\n",
              "    </tr>\n",
              "  </tbody>\n",
              "</table>\n",
              "</div>"
            ],
            "text/plain": [
              "   Client Code Ucc Code                        Name Branch Ac Open Date\n",
              "1       AAB797   AAB797                   NEHA JAIN   MB01    07-Sep-23\n",
              "3       AAB630   AAB630        PRIYANKA VIJAY MATAI   DU01    18-Aug-23\n",
              "7       AAB908   AAB908    SHITAL KANTILAL KHATRANI  RSS04    26-Sep-23\n",
              "13      AAB936   AAB936  JAYSHREEBEN ANANTRAI RAVAL   AT01    04-Oct-23\n",
              "15      AAB980   AAB980         JAYDIP VASANT GODSE  RKG02    12-Oct-23"
            ]
          },
          "execution_count": 20,
          "metadata": {},
          "output_type": "execute_result"
        }
      ],
      "source": [
        "AP_Customer.head()"
      ]
    },
    {
      "cell_type": "code",
      "execution_count": 21,
      "id": "b4bfbb65",
      "metadata": {},
      "outputs": [],
      "source": [
        "AP_Customer_count = AP_Customer['Client Code'].count()"
      ]
    },
    {
      "cell_type": "code",
      "execution_count": 22,
      "id": "4ebea102",
      "metadata": {},
      "outputs": [
        {
          "data": {
            "text/plain": [
              "395"
            ]
          },
          "execution_count": 22,
          "metadata": {},
          "output_type": "execute_result"
        }
      ],
      "source": [
        "AP_Customer_count"
      ]
    },
    {
      "cell_type": "code",
      "execution_count": 23,
      "id": "27c5cb75",
      "metadata": {},
      "outputs": [],
      "source": [
        "unique_AP_brought_customer = AP_Customer['Branch'].nunique()"
      ]
    },
    {
      "cell_type": "code",
      "execution_count": 24,
      "id": "3b670297",
      "metadata": {},
      "outputs": [
        {
          "data": {
            "text/plain": [
              "80"
            ]
          },
          "execution_count": 24,
          "metadata": {},
          "output_type": "execute_result"
        }
      ],
      "source": [
        "unique_AP_brought_customer ##Number of AP who have brought customers "
      ]
    },
    {
      "cell_type": "code",
      "execution_count": 25,
      "id": "498220d3",
      "metadata": {},
      "outputs": [],
      "source": [
        "Groupby_AP = AP_Customer.groupby(['Branch','Ucc Code']).sum()"
      ]
    },
    {
      "cell_type": "code",
      "execution_count": 26,
      "id": "1e196d77",
      "metadata": {},
      "outputs": [
        {
          "data": {
            "text/html": [
              "<div>\n",
              "<style scoped>\n",
              "    .dataframe tbody tr th:only-of-type {\n",
              "        vertical-align: middle;\n",
              "    }\n",
              "\n",
              "    .dataframe tbody tr th {\n",
              "        vertical-align: top;\n",
              "    }\n",
              "\n",
              "    .dataframe thead th {\n",
              "        text-align: right;\n",
              "    }\n",
              "</style>\n",
              "<table border=\"1\" class=\"dataframe\">\n",
              "  <thead>\n",
              "    <tr style=\"text-align: right;\">\n",
              "      <th></th>\n",
              "      <th></th>\n",
              "      <th>Client Code</th>\n",
              "      <th>Name</th>\n",
              "      <th>Ac Open Date</th>\n",
              "    </tr>\n",
              "    <tr>\n",
              "      <th>Branch</th>\n",
              "      <th>Ucc Code</th>\n",
              "      <th></th>\n",
              "      <th></th>\n",
              "      <th></th>\n",
              "    </tr>\n",
              "  </thead>\n",
              "  <tbody>\n",
              "    <tr>\n",
              "      <th rowspan=\"5\" valign=\"top\">AD01</th>\n",
              "      <th>AAA395</th>\n",
              "      <td>AAA395</td>\n",
              "      <td>RAMKISHOR RAMJIVANJI DARAK</td>\n",
              "      <td>23-Jan-23</td>\n",
              "    </tr>\n",
              "    <tr>\n",
              "      <th>AAA481</th>\n",
              "      <td>AAA481</td>\n",
              "      <td>KUSUM NAWALKISHORE SONI</td>\n",
              "      <td>10-Apr-23</td>\n",
              "    </tr>\n",
              "    <tr>\n",
              "      <th>AAB282</th>\n",
              "      <td>AAB282</td>\n",
              "      <td>SUMEET RAMKISHOR DARAK</td>\n",
              "      <td>05-Jun-23</td>\n",
              "    </tr>\n",
              "    <tr>\n",
              "      <th>AAB383</th>\n",
              "      <td>AAB383</td>\n",
              "      <td>SALONI KAILASH DARAK</td>\n",
              "      <td>16-Jun-23</td>\n",
              "    </tr>\n",
              "    <tr>\n",
              "      <th>AAB392</th>\n",
              "      <td>AAB392</td>\n",
              "      <td>SONAKSHI KAILASH DARAK</td>\n",
              "      <td>21-Jun-23</td>\n",
              "    </tr>\n",
              "  </tbody>\n",
              "</table>\n",
              "</div>"
            ],
            "text/plain": [
              "                Client Code                        Name Ac Open Date\n",
              "Branch Ucc Code                                                     \n",
              "AD01   AAA395        AAA395  RAMKISHOR RAMJIVANJI DARAK    23-Jan-23\n",
              "       AAA481        AAA481     KUSUM NAWALKISHORE SONI    10-Apr-23\n",
              "       AAB282        AAB282      SUMEET RAMKISHOR DARAK    05-Jun-23\n",
              "       AAB383        AAB383        SALONI KAILASH DARAK    16-Jun-23\n",
              "       AAB392        AAB392      SONAKSHI KAILASH DARAK    21-Jun-23"
            ]
          },
          "execution_count": 26,
          "metadata": {},
          "output_type": "execute_result"
        }
      ],
      "source": [
        "Groupby_AP.head()"
      ]
    },
    {
      "cell_type": "code",
      "execution_count": 27,
      "id": "e1976006",
      "metadata": {},
      "outputs": [
        {
          "data": {
            "text/html": [
              "<div>\n",
              "<style scoped>\n",
              "    .dataframe tbody tr th:only-of-type {\n",
              "        vertical-align: middle;\n",
              "    }\n",
              "\n",
              "    .dataframe tbody tr th {\n",
              "        vertical-align: top;\n",
              "    }\n",
              "\n",
              "    .dataframe thead th {\n",
              "        text-align: right;\n",
              "    }\n",
              "</style>\n",
              "<table border=\"1\" class=\"dataframe\">\n",
              "  <thead>\n",
              "    <tr style=\"text-align: right;\">\n",
              "      <th></th>\n",
              "      <th>UCC</th>\n",
              "      <th>Clients Name</th>\n",
              "      <th>PAN</th>\n",
              "    </tr>\n",
              "  </thead>\n",
              "  <tbody>\n",
              "    <tr>\n",
              "      <th>0</th>\n",
              "      <td>AAB886</td>\n",
              "      <td>AKASH PRALATHIYA</td>\n",
              "      <td>FZKPP0419L</td>\n",
              "    </tr>\n",
              "    <tr>\n",
              "      <th>1</th>\n",
              "      <td>AAB919</td>\n",
              "      <td>CHIRAG GIRISH UPADHYAY</td>\n",
              "      <td>ADMPU5579M</td>\n",
              "    </tr>\n",
              "    <tr>\n",
              "      <th>2</th>\n",
              "      <td>AAB948</td>\n",
              "      <td>GIRDHARI LAL SONI</td>\n",
              "      <td>ANQPS6222D</td>\n",
              "    </tr>\n",
              "    <tr>\n",
              "      <th>3</th>\n",
              "      <td>AAB850</td>\n",
              "      <td>KRATIKA AGARWAL</td>\n",
              "      <td>DLQPA7653K</td>\n",
              "    </tr>\n",
              "    <tr>\n",
              "      <th>4</th>\n",
              "      <td>AAB353</td>\n",
              "      <td>KISHORE MANOHAR ANGNE</td>\n",
              "      <td>ABPPA0799N</td>\n",
              "    </tr>\n",
              "  </tbody>\n",
              "</table>\n",
              "</div>"
            ],
            "text/plain": [
              "      UCC            Clients Name         PAN\n",
              "0  AAB886        AKASH PRALATHIYA  FZKPP0419L\n",
              "1  AAB919  CHIRAG GIRISH UPADHYAY  ADMPU5579M\n",
              "2  AAB948       GIRDHARI LAL SONI  ANQPS6222D\n",
              "3  AAB850         KRATIKA AGARWAL  DLQPA7653K\n",
              "4  AAB353   KISHORE MANOHAR ANGNE  ABPPA0799N"
            ]
          },
          "execution_count": 27,
          "metadata": {},
          "output_type": "execute_result"
        }
      ],
      "source": [
        "AP_who_are_customer.head()"
      ]
    },
    {
      "cell_type": "code",
      "execution_count": 28,
      "id": "185f3146",
      "metadata": {},
      "outputs": [
        {
          "data": {
            "text/html": [
              "<div>\n",
              "<style scoped>\n",
              "    .dataframe tbody tr th:only-of-type {\n",
              "        vertical-align: middle;\n",
              "    }\n",
              "\n",
              "    .dataframe tbody tr th {\n",
              "        vertical-align: top;\n",
              "    }\n",
              "\n",
              "    .dataframe thead th {\n",
              "        text-align: right;\n",
              "    }\n",
              "</style>\n",
              "<table border=\"1\" class=\"dataframe\">\n",
              "  <thead>\n",
              "    <tr style=\"text-align: right;\">\n",
              "      <th></th>\n",
              "      <th>UCC</th>\n",
              "      <th>Clients Name</th>\n",
              "      <th>PAN</th>\n",
              "    </tr>\n",
              "  </thead>\n",
              "  <tbody>\n",
              "    <tr>\n",
              "      <th>76</th>\n",
              "      <td>AAB621</td>\n",
              "      <td>RAJ KUMAR</td>\n",
              "      <td>AVOPK5207C</td>\n",
              "    </tr>\n",
              "    <tr>\n",
              "      <th>77</th>\n",
              "      <td>AAB511</td>\n",
              "      <td>SIDDHARTH SHANKARAN</td>\n",
              "      <td>DGGPS0234D</td>\n",
              "    </tr>\n",
              "    <tr>\n",
              "      <th>78</th>\n",
              "      <td>AAB402</td>\n",
              "      <td>SMITA SANDEEP KUNTE</td>\n",
              "      <td>ACEPK2841F</td>\n",
              "    </tr>\n",
              "    <tr>\n",
              "      <th>79</th>\n",
              "      <td>AAA378</td>\n",
              "      <td>NIRMALKUMAR LAXMICHAND JAKHOTIA</td>\n",
              "      <td>AACPJ8127D</td>\n",
              "    </tr>\n",
              "    <tr>\n",
              "      <th>80</th>\n",
              "      <td>AAA354</td>\n",
              "      <td>HARSH DARAK</td>\n",
              "      <td>CQHPD5080N</td>\n",
              "    </tr>\n",
              "  </tbody>\n",
              "</table>\n",
              "</div>"
            ],
            "text/plain": [
              "       UCC                     Clients Name         PAN\n",
              "76  AAB621                        RAJ KUMAR  AVOPK5207C\n",
              "77  AAB511              SIDDHARTH SHANKARAN  DGGPS0234D\n",
              "78  AAB402              SMITA SANDEEP KUNTE  ACEPK2841F\n",
              "79  AAA378  NIRMALKUMAR LAXMICHAND JAKHOTIA  AACPJ8127D\n",
              "80  AAA354                      HARSH DARAK  CQHPD5080N"
            ]
          },
          "execution_count": 28,
          "metadata": {},
          "output_type": "execute_result"
        }
      ],
      "source": [
        "AP_who_are_customer.tail()"
      ]
    },
    {
      "cell_type": "code",
      "execution_count": 29,
      "id": "8cf6d8cb",
      "metadata": {},
      "outputs": [
        {
          "name": "stdout",
          "output_type": "stream",
          "text": [
            "<class 'pandas.core.frame.DataFrame'>\n",
            "RangeIndex: 81 entries, 0 to 80\n",
            "Data columns (total 3 columns):\n",
            " #   Column        Non-Null Count  Dtype \n",
            "---  ------        --------------  ----- \n",
            " 0   UCC           81 non-null     object\n",
            " 1   Clients Name  81 non-null     object\n",
            " 2   PAN           81 non-null     object\n",
            "dtypes: object(3)\n",
            "memory usage: 2.0+ KB\n"
          ]
        }
      ],
      "source": [
        "AP_who_are_customer.info()"
      ]
    },
    {
      "cell_type": "code",
      "execution_count": 30,
      "id": "c7904dbc",
      "metadata": {},
      "outputs": [],
      "source": [
        "count_of_AP_who_are_customer = AP_who_are_customer['UCC'].nunique() #Number of AP who are customer"
      ]
    },
    {
      "cell_type": "code",
      "execution_count": 31,
      "id": "3e58605d",
      "metadata": {},
      "outputs": [
        {
          "data": {
            "text/plain": [
              "81"
            ]
          },
          "execution_count": 31,
          "metadata": {},
          "output_type": "execute_result"
        }
      ],
      "source": [
        "count_of_AP_who_are_customer"
      ]
    },
    {
      "cell_type": "code",
      "execution_count": 32,
      "id": "9334392e",
      "metadata": {},
      "outputs": [
        {
          "data": {
            "text/html": [
              "<div>\n",
              "<style scoped>\n",
              "    .dataframe tbody tr th:only-of-type {\n",
              "        vertical-align: middle;\n",
              "    }\n",
              "\n",
              "    .dataframe tbody tr th {\n",
              "        vertical-align: top;\n",
              "    }\n",
              "\n",
              "    .dataframe thead th {\n",
              "        text-align: right;\n",
              "    }\n",
              "</style>\n",
              "<table border=\"1\" class=\"dataframe\">\n",
              "  <thead>\n",
              "    <tr style=\"text-align: right;\">\n",
              "      <th></th>\n",
              "      <th>Sr. No.</th>\n",
              "      <th>Name of Employee</th>\n",
              "      <th>UCC</th>\n",
              "    </tr>\n",
              "  </thead>\n",
              "  <tbody>\n",
              "    <tr>\n",
              "      <th>0</th>\n",
              "      <td>1</td>\n",
              "      <td>Suresh Kumar Ganpat Lal Darak</td>\n",
              "      <td>AAA303</td>\n",
              "    </tr>\n",
              "    <tr>\n",
              "      <th>1</th>\n",
              "      <td>3</td>\n",
              "      <td>Vatsal Gudka</td>\n",
              "      <td>AAA298</td>\n",
              "    </tr>\n",
              "    <tr>\n",
              "      <th>2</th>\n",
              "      <td>5</td>\n",
              "      <td>Siddhi Rawool</td>\n",
              "      <td>AAA330</td>\n",
              "    </tr>\n",
              "    <tr>\n",
              "      <th>3</th>\n",
              "      <td>6</td>\n",
              "      <td>Isha Sameer Kamdar</td>\n",
              "      <td>AAA292</td>\n",
              "    </tr>\n",
              "    <tr>\n",
              "      <th>4</th>\n",
              "      <td>7</td>\n",
              "      <td>Amol Gawde</td>\n",
              "      <td>AAA337</td>\n",
              "    </tr>\n",
              "  </tbody>\n",
              "</table>\n",
              "</div>"
            ],
            "text/plain": [
              "   Sr. No.               Name of Employee     UCC\n",
              "0        1  Suresh Kumar Ganpat Lal Darak  AAA303\n",
              "1        3                   Vatsal Gudka  AAA298\n",
              "2        5                  Siddhi Rawool  AAA330\n",
              "3        6             Isha Sameer Kamdar  AAA292\n",
              "4        7                     Amol Gawde  AAA337"
            ]
          },
          "execution_count": 32,
          "metadata": {},
          "output_type": "execute_result"
        }
      ],
      "source": [
        "employee_customer.head()"
      ]
    },
    {
      "cell_type": "code",
      "execution_count": 33,
      "id": "9c49dc36",
      "metadata": {},
      "outputs": [
        {
          "data": {
            "text/html": [
              "<div>\n",
              "<style scoped>\n",
              "    .dataframe tbody tr th:only-of-type {\n",
              "        vertical-align: middle;\n",
              "    }\n",
              "\n",
              "    .dataframe tbody tr th {\n",
              "        vertical-align: top;\n",
              "    }\n",
              "\n",
              "    .dataframe thead th {\n",
              "        text-align: right;\n",
              "    }\n",
              "</style>\n",
              "<table border=\"1\" class=\"dataframe\">\n",
              "  <thead>\n",
              "    <tr style=\"text-align: right;\">\n",
              "      <th></th>\n",
              "      <th>Sr. No.</th>\n",
              "      <th>Name of Employee</th>\n",
              "      <th>UCC</th>\n",
              "    </tr>\n",
              "  </thead>\n",
              "  <tbody>\n",
              "    <tr>\n",
              "      <th>59</th>\n",
              "      <td>64</td>\n",
              "      <td>Shweta Sakpal</td>\n",
              "      <td>AAB711</td>\n",
              "    </tr>\n",
              "    <tr>\n",
              "      <th>60</th>\n",
              "      <td>65</td>\n",
              "      <td>Karthik Rao</td>\n",
              "      <td>AAB710</td>\n",
              "    </tr>\n",
              "    <tr>\n",
              "      <th>61</th>\n",
              "      <td>66</td>\n",
              "      <td>Pradeep Gurav</td>\n",
              "      <td>AAA727</td>\n",
              "    </tr>\n",
              "    <tr>\n",
              "      <th>62</th>\n",
              "      <td>67</td>\n",
              "      <td>Bondbazaar Securities Pvt. Ltd.</td>\n",
              "      <td>OWN</td>\n",
              "    </tr>\n",
              "    <tr>\n",
              "      <th>63</th>\n",
              "      <td>68</td>\n",
              "      <td>Bondbazaar Services Pvt. Ltd.</td>\n",
              "      <td>PAA002</td>\n",
              "    </tr>\n",
              "  </tbody>\n",
              "</table>\n",
              "</div>"
            ],
            "text/plain": [
              "    Sr. No.                 Name of Employee     UCC\n",
              "59       64                   Shweta Sakpal   AAB711\n",
              "60       65                     Karthik Rao   AAB710\n",
              "61       66                   Pradeep Gurav   AAA727\n",
              "62       67  Bondbazaar Securities Pvt. Ltd.     OWN\n",
              "63       68    Bondbazaar Services Pvt. Ltd.  PAA002"
            ]
          },
          "execution_count": 33,
          "metadata": {},
          "output_type": "execute_result"
        }
      ],
      "source": [
        "employee_customer.tail()"
      ]
    },
    {
      "cell_type": "code",
      "execution_count": 34,
      "id": "e362d4b0",
      "metadata": {},
      "outputs": [],
      "source": [
        "employee_customer_count = employee_customer['UCC'].count()"
      ]
    },
    {
      "cell_type": "code",
      "execution_count": 35,
      "id": "a2762bbb",
      "metadata": {},
      "outputs": [
        {
          "data": {
            "text/plain": [
              "64"
            ]
          },
          "execution_count": 35,
          "metadata": {},
          "output_type": "execute_result"
        }
      ],
      "source": [
        "employee_customer_count #number of employees who are customer"
      ]
    },
    {
      "cell_type": "code",
      "execution_count": 36,
      "id": "b6a539e4",
      "metadata": {},
      "outputs": [],
      "source": [
        "outside_client = outside_customer['Ucc Code'].count()"
      ]
    },
    {
      "cell_type": "code",
      "execution_count": 37,
      "id": "292df17b",
      "metadata": {},
      "outputs": [
        {
          "data": {
            "text/plain": [
              "679"
            ]
          },
          "execution_count": 37,
          "metadata": {},
          "output_type": "execute_result"
        }
      ],
      "source": [
        "outside_client #total outside customer after removing employees/APS/APS customer from the total customer"
      ]
    },
    {
      "cell_type": "code",
      "execution_count": 38,
      "id": "d7af19ed",
      "metadata": {},
      "outputs": [],
      "source": [
        "total_number_customer = outside_client+employee_customer_count+count_of_AP_who_are_customer+AP_Customer_count"
      ]
    },
    {
      "cell_type": "code",
      "execution_count": 39,
      "id": "94dc22ea",
      "metadata": {},
      "outputs": [],
      "source": [
        "\n",
        "data = {\n",
        "    'Category': ['Total Customers', 'AP Who Are Customers', 'Customers Brought by AP', 'Employees Who Are Customers', 'Outside Customers'],\n",
        "    'Count': [total_number_customer, count_of_AP_who_are_customer, AP_Customer_count, employee_customer_count, outside_client]\n",
        "}\n",
        "customer_overview = pd.DataFrame(data)\n"
      ]
    },
    {
      "cell_type": "code",
      "execution_count": 40,
      "id": "6e629584",
      "metadata": {},
      "outputs": [
        {
          "data": {
            "text/html": [
              "<div>\n",
              "<style scoped>\n",
              "    .dataframe tbody tr th:only-of-type {\n",
              "        vertical-align: middle;\n",
              "    }\n",
              "\n",
              "    .dataframe tbody tr th {\n",
              "        vertical-align: top;\n",
              "    }\n",
              "\n",
              "    .dataframe thead th {\n",
              "        text-align: right;\n",
              "    }\n",
              "</style>\n",
              "<table border=\"1\" class=\"dataframe\">\n",
              "  <thead>\n",
              "    <tr style=\"text-align: right;\">\n",
              "      <th></th>\n",
              "      <th>Category</th>\n",
              "      <th>Count</th>\n",
              "    </tr>\n",
              "  </thead>\n",
              "  <tbody>\n",
              "    <tr>\n",
              "      <th>0</th>\n",
              "      <td>Total Customers</td>\n",
              "      <td>1219</td>\n",
              "    </tr>\n",
              "    <tr>\n",
              "      <th>1</th>\n",
              "      <td>AP Who Are Customers</td>\n",
              "      <td>81</td>\n",
              "    </tr>\n",
              "    <tr>\n",
              "      <th>2</th>\n",
              "      <td>Customers Brought by AP</td>\n",
              "      <td>395</td>\n",
              "    </tr>\n",
              "    <tr>\n",
              "      <th>3</th>\n",
              "      <td>Employees Who Are Customers</td>\n",
              "      <td>64</td>\n",
              "    </tr>\n",
              "    <tr>\n",
              "      <th>4</th>\n",
              "      <td>Outside Customers</td>\n",
              "      <td>679</td>\n",
              "    </tr>\n",
              "  </tbody>\n",
              "</table>\n",
              "</div>"
            ],
            "text/plain": [
              "                      Category  Count\n",
              "0              Total Customers   1219\n",
              "1         AP Who Are Customers     81\n",
              "2      Customers Brought by AP    395\n",
              "3  Employees Who Are Customers     64\n",
              "4            Outside Customers    679"
            ]
          },
          "execution_count": 40,
          "metadata": {},
          "output_type": "execute_result"
        }
      ],
      "source": [
        "customer_overview"
      ]
    },
    {
      "cell_type": "code",
      "execution_count": null,
      "id": "70795783",
      "metadata": {},
      "outputs": [],
      "source": []
    },
    {
      "cell_type": "code",
      "execution_count": null,
      "id": "f21081a6",
      "metadata": {},
      "outputs": [],
      "source": []
    },
    {
      "cell_type": "code",
      "execution_count": null,
      "id": "c9833a68",
      "metadata": {},
      "outputs": [],
      "source": []
    },
    {
      "cell_type": "code",
      "execution_count": null,
      "id": "18de3cf6",
      "metadata": {},
      "outputs": [],
      "source": []
    },
    {
      "cell_type": "code",
      "execution_count": null,
      "id": "c04e794c",
      "metadata": {},
      "outputs": [],
      "source": []
    },
    {
      "cell_type": "code",
      "execution_count": null,
      "id": "1535faa8",
      "metadata": {},
      "outputs": [],
      "source": []
    },
    {
      "cell_type": "code",
      "execution_count": null,
      "id": "9dee9330",
      "metadata": {},
      "outputs": [],
      "source": []
    },
    {
      "cell_type": "code",
      "execution_count": null,
      "id": "9329f218",
      "metadata": {},
      "outputs": [],
      "source": []
    },
    {
      "cell_type": "code",
      "execution_count": 41,
      "id": "f9cc7415",
      "metadata": {},
      "outputs": [
        {
          "data": {
            "text/html": [
              "<div>\n",
              "<style scoped>\n",
              "    .dataframe tbody tr th:only-of-type {\n",
              "        vertical-align: middle;\n",
              "    }\n",
              "\n",
              "    .dataframe tbody tr th {\n",
              "        vertical-align: top;\n",
              "    }\n",
              "\n",
              "    .dataframe thead th {\n",
              "        text-align: right;\n",
              "    }\n",
              "</style>\n",
              "<table border=\"1\" class=\"dataframe\">\n",
              "  <thead>\n",
              "    <tr style=\"text-align: right;\">\n",
              "      <th></th>\n",
              "      <th>Client Code</th>\n",
              "      <th>Ucc Code</th>\n",
              "      <th>Name</th>\n",
              "      <th>Branch</th>\n",
              "      <th>Ac Open Date</th>\n",
              "    </tr>\n",
              "  </thead>\n",
              "  <tbody>\n",
              "    <tr>\n",
              "      <th>0</th>\n",
              "      <td>AAB803</td>\n",
              "      <td>AAB803</td>\n",
              "      <td>ABHISHEK GITE</td>\n",
              "      <td>HO</td>\n",
              "      <td>07-Sep-23</td>\n",
              "    </tr>\n",
              "    <tr>\n",
              "      <th>1</th>\n",
              "      <td>AAB797</td>\n",
              "      <td>AAB797</td>\n",
              "      <td>NEHA JAIN</td>\n",
              "      <td>MB01</td>\n",
              "      <td>07-Sep-23</td>\n",
              "    </tr>\n",
              "    <tr>\n",
              "      <th>2</th>\n",
              "      <td>AAB781</td>\n",
              "      <td>AAB781</td>\n",
              "      <td>JITENDRA ADVANI</td>\n",
              "      <td>HO</td>\n",
              "      <td>04-Sep-23</td>\n",
              "    </tr>\n",
              "    <tr>\n",
              "      <th>3</th>\n",
              "      <td>AAB630</td>\n",
              "      <td>AAB630</td>\n",
              "      <td>PRIYANKA VIJAY MATAI</td>\n",
              "      <td>DU01</td>\n",
              "      <td>18-Aug-23</td>\n",
              "    </tr>\n",
              "    <tr>\n",
              "      <th>4</th>\n",
              "      <td>AAB761</td>\n",
              "      <td>AAB761</td>\n",
              "      <td>RUCHITA HARISHANKAR MAURYA</td>\n",
              "      <td>HO</td>\n",
              "      <td>01-Sep-23</td>\n",
              "    </tr>\n",
              "  </tbody>\n",
              "</table>\n",
              "</div>"
            ],
            "text/plain": [
              "  Client Code Ucc Code                        Name Branch Ac Open Date\n",
              "0      AAB803   AAB803               ABHISHEK GITE     HO    07-Sep-23\n",
              "1      AAB797   AAB797                   NEHA JAIN   MB01    07-Sep-23\n",
              "2      AAB781   AAB781             JITENDRA ADVANI     HO    04-Sep-23\n",
              "3      AAB630   AAB630        PRIYANKA VIJAY MATAI   DU01    18-Aug-23\n",
              "4      AAB761   AAB761  RUCHITA HARISHANKAR MAURYA     HO    01-Sep-23"
            ]
          },
          "execution_count": 41,
          "metadata": {},
          "output_type": "execute_result"
        }
      ],
      "source": [
        "customer.head()"
      ]
    },
    {
      "cell_type": "code",
      "execution_count": 42,
      "id": "d9253e08",
      "metadata": {},
      "outputs": [
        {
          "name": "stdout",
          "output_type": "stream",
          "text": [
            "<class 'pandas.core.frame.DataFrame'>\n",
            "RangeIndex: 1203 entries, 0 to 1202\n",
            "Data columns (total 5 columns):\n",
            " #   Column        Non-Null Count  Dtype \n",
            "---  ------        --------------  ----- \n",
            " 0   Client Code   1203 non-null   object\n",
            " 1   Ucc Code      1203 non-null   object\n",
            " 2   Name          1203 non-null   object\n",
            " 3   Branch        1203 non-null   object\n",
            " 4   Ac Open Date  1203 non-null   object\n",
            "dtypes: object(5)\n",
            "memory usage: 47.1+ KB\n"
          ]
        }
      ],
      "source": [
        "customer.info()"
      ]
    },
    {
      "cell_type": "code",
      "execution_count": 43,
      "id": "cd798268",
      "metadata": {},
      "outputs": [],
      "source": [
        "customer['Ac Open Date'] = pd.to_datetime(customer['Ac Open Date'], format='%d-%b-%y') #converting the date into proper datetime format"
      ]
    },
    {
      "cell_type": "code",
      "execution_count": 44,
      "id": "3cd73244",
      "metadata": {},
      "outputs": [
        {
          "data": {
            "text/html": [
              "<div>\n",
              "<style scoped>\n",
              "    .dataframe tbody tr th:only-of-type {\n",
              "        vertical-align: middle;\n",
              "    }\n",
              "\n",
              "    .dataframe tbody tr th {\n",
              "        vertical-align: top;\n",
              "    }\n",
              "\n",
              "    .dataframe thead th {\n",
              "        text-align: right;\n",
              "    }\n",
              "</style>\n",
              "<table border=\"1\" class=\"dataframe\">\n",
              "  <thead>\n",
              "    <tr style=\"text-align: right;\">\n",
              "      <th></th>\n",
              "      <th>Client Code</th>\n",
              "      <th>Ucc Code</th>\n",
              "      <th>Name</th>\n",
              "      <th>Branch</th>\n",
              "      <th>Ac Open Date</th>\n",
              "    </tr>\n",
              "  </thead>\n",
              "  <tbody>\n",
              "    <tr>\n",
              "      <th>0</th>\n",
              "      <td>AAB803</td>\n",
              "      <td>AAB803</td>\n",
              "      <td>ABHISHEK GITE</td>\n",
              "      <td>HO</td>\n",
              "      <td>2023-09-07</td>\n",
              "    </tr>\n",
              "    <tr>\n",
              "      <th>1</th>\n",
              "      <td>AAB797</td>\n",
              "      <td>AAB797</td>\n",
              "      <td>NEHA JAIN</td>\n",
              "      <td>MB01</td>\n",
              "      <td>2023-09-07</td>\n",
              "    </tr>\n",
              "    <tr>\n",
              "      <th>2</th>\n",
              "      <td>AAB781</td>\n",
              "      <td>AAB781</td>\n",
              "      <td>JITENDRA ADVANI</td>\n",
              "      <td>HO</td>\n",
              "      <td>2023-09-04</td>\n",
              "    </tr>\n",
              "    <tr>\n",
              "      <th>3</th>\n",
              "      <td>AAB630</td>\n",
              "      <td>AAB630</td>\n",
              "      <td>PRIYANKA VIJAY MATAI</td>\n",
              "      <td>DU01</td>\n",
              "      <td>2023-08-18</td>\n",
              "    </tr>\n",
              "    <tr>\n",
              "      <th>4</th>\n",
              "      <td>AAB761</td>\n",
              "      <td>AAB761</td>\n",
              "      <td>RUCHITA HARISHANKAR MAURYA</td>\n",
              "      <td>HO</td>\n",
              "      <td>2023-09-01</td>\n",
              "    </tr>\n",
              "  </tbody>\n",
              "</table>\n",
              "</div>"
            ],
            "text/plain": [
              "  Client Code Ucc Code                        Name Branch Ac Open Date\n",
              "0      AAB803   AAB803               ABHISHEK GITE     HO   2023-09-07\n",
              "1      AAB797   AAB797                   NEHA JAIN   MB01   2023-09-07\n",
              "2      AAB781   AAB781             JITENDRA ADVANI     HO   2023-09-04\n",
              "3      AAB630   AAB630        PRIYANKA VIJAY MATAI   DU01   2023-08-18\n",
              "4      AAB761   AAB761  RUCHITA HARISHANKAR MAURYA     HO   2023-09-01"
            ]
          },
          "execution_count": 44,
          "metadata": {},
          "output_type": "execute_result"
        }
      ],
      "source": [
        "customer.head()"
      ]
    },
    {
      "cell_type": "code",
      "execution_count": 45,
      "id": "fa69a9ac",
      "metadata": {},
      "outputs": [],
      "source": [
        "dangal_start_date = pd.to_datetime('5/10/2023') #dangal start date"
      ]
    },
    {
      "cell_type": "code",
      "execution_count": 46,
      "id": "2c1c0c4a",
      "metadata": {},
      "outputs": [
        {
          "data": {
            "text/plain": [
              "Timestamp('2023-05-10 00:00:00')"
            ]
          },
          "execution_count": 46,
          "metadata": {},
          "output_type": "execute_result"
        }
      ],
      "source": [
        "dangal_start_date"
      ]
    },
    {
      "cell_type": "code",
      "execution_count": 47,
      "id": "977a372b",
      "metadata": {},
      "outputs": [],
      "source": [
        "dangal_end_date =  pd.to_datetime('6/19/2023') #dangal end date"
      ]
    },
    {
      "cell_type": "code",
      "execution_count": 48,
      "id": "3137e6ad",
      "metadata": {},
      "outputs": [
        {
          "data": {
            "text/plain": [
              "Timestamp('2023-06-19 00:00:00')"
            ]
          },
          "execution_count": 48,
          "metadata": {},
          "output_type": "execute_result"
        }
      ],
      "source": [
        "dangal_end_date"
      ]
    },
    {
      "cell_type": "code",
      "execution_count": 49,
      "id": "cb0051cc",
      "metadata": {},
      "outputs": [],
      "source": [
        "condition = (customer['Ac Open Date'] >= dangal_start_date) & (customer['Ac Open Date'] <= dangal_end_date)\n",
        "\n",
        "# Spliting the data based on dangal customer and normal customer\n",
        "dangal_customer = customer[condition]\n",
        "outside_dangal_customer = customer[~condition]"
      ]
    },
    {
      "cell_type": "code",
      "execution_count": 50,
      "id": "7ad43ae2",
      "metadata": {},
      "outputs": [],
      "source": [
        "dangal_customer.rename(columns={'Ucc Code':'UCC'},inplace = True)"
      ]
    },
    {
      "cell_type": "code",
      "execution_count": 51,
      "id": "e4944483",
      "metadata": {
        "scrolled": true
      },
      "outputs": [
        {
          "data": {
            "text/html": [
              "<div>\n",
              "<style scoped>\n",
              "    .dataframe tbody tr th:only-of-type {\n",
              "        vertical-align: middle;\n",
              "    }\n",
              "\n",
              "    .dataframe tbody tr th {\n",
              "        vertical-align: top;\n",
              "    }\n",
              "\n",
              "    .dataframe thead th {\n",
              "        text-align: right;\n",
              "    }\n",
              "</style>\n",
              "<table border=\"1\" class=\"dataframe\">\n",
              "  <thead>\n",
              "    <tr style=\"text-align: right;\">\n",
              "      <th></th>\n",
              "      <th>Client Code</th>\n",
              "      <th>UCC</th>\n",
              "      <th>Name</th>\n",
              "      <th>Branch</th>\n",
              "      <th>Ac Open Date</th>\n",
              "    </tr>\n",
              "  </thead>\n",
              "  <tbody>\n",
              "    <tr>\n",
              "      <th>14</th>\n",
              "      <td>AAA827</td>\n",
              "      <td>AAA827</td>\n",
              "      <td>SNEHA SUBHASH DHURI</td>\n",
              "      <td>HO</td>\n",
              "      <td>2023-05-22</td>\n",
              "    </tr>\n",
              "    <tr>\n",
              "      <th>33</th>\n",
              "      <td>AAA713</td>\n",
              "      <td>AAA713</td>\n",
              "      <td>SWATI PODDAR</td>\n",
              "      <td>SG01</td>\n",
              "      <td>2023-05-23</td>\n",
              "    </tr>\n",
              "    <tr>\n",
              "      <th>48</th>\n",
              "      <td>AAB301</td>\n",
              "      <td>AAB301</td>\n",
              "      <td>DANISH NAZIM ALI SAYED</td>\n",
              "      <td>HS01</td>\n",
              "      <td>2023-06-06</td>\n",
              "    </tr>\n",
              "    <tr>\n",
              "      <th>49</th>\n",
              "      <td>AAA569</td>\n",
              "      <td>AAA569</td>\n",
              "      <td>PRITI RAMNIK DUBE</td>\n",
              "      <td>HO</td>\n",
              "      <td>2023-05-12</td>\n",
              "    </tr>\n",
              "    <tr>\n",
              "      <th>52</th>\n",
              "      <td>AAA586</td>\n",
              "      <td>AAA586</td>\n",
              "      <td>JEYA PETER DICKSON</td>\n",
              "      <td>HO</td>\n",
              "      <td>2023-05-15</td>\n",
              "    </tr>\n",
              "  </tbody>\n",
              "</table>\n",
              "</div>"
            ],
            "text/plain": [
              "   Client Code     UCC                    Name Branch Ac Open Date\n",
              "14      AAA827  AAA827     SNEHA SUBHASH DHURI     HO   2023-05-22\n",
              "33      AAA713  AAA713            SWATI PODDAR   SG01   2023-05-23\n",
              "48      AAB301  AAB301  DANISH NAZIM ALI SAYED   HS01   2023-06-06\n",
              "49      AAA569  AAA569       PRITI RAMNIK DUBE     HO   2023-05-12\n",
              "52      AAA586  AAA586      JEYA PETER DICKSON     HO   2023-05-15"
            ]
          },
          "execution_count": 51,
          "metadata": {},
          "output_type": "execute_result"
        }
      ],
      "source": [
        "dangal_customer.head()"
      ]
    },
    {
      "cell_type": "code",
      "execution_count": 52,
      "id": "124f7cc2",
      "metadata": {},
      "outputs": [
        {
          "name": "stdout",
          "output_type": "stream",
          "text": [
            "<class 'pandas.core.frame.DataFrame'>\n",
            "Index: 472 entries, 14 to 1202\n",
            "Data columns (total 5 columns):\n",
            " #   Column        Non-Null Count  Dtype         \n",
            "---  ------        --------------  -----         \n",
            " 0   Client Code   472 non-null    object        \n",
            " 1   UCC           472 non-null    object        \n",
            " 2   Name          472 non-null    object        \n",
            " 3   Branch        472 non-null    object        \n",
            " 4   Ac Open Date  472 non-null    datetime64[ns]\n",
            "dtypes: datetime64[ns](1), object(4)\n",
            "memory usage: 22.1+ KB\n"
          ]
        }
      ],
      "source": [
        "dangal_customer.info()"
      ]
    },
    {
      "cell_type": "code",
      "execution_count": 53,
      "id": "d123240b",
      "metadata": {},
      "outputs": [
        {
          "data": {
            "text/html": [
              "<div>\n",
              "<style scoped>\n",
              "    .dataframe tbody tr th:only-of-type {\n",
              "        vertical-align: middle;\n",
              "    }\n",
              "\n",
              "    .dataframe tbody tr th {\n",
              "        vertical-align: top;\n",
              "    }\n",
              "\n",
              "    .dataframe thead th {\n",
              "        text-align: right;\n",
              "    }\n",
              "</style>\n",
              "<table border=\"1\" class=\"dataframe\">\n",
              "  <thead>\n",
              "    <tr style=\"text-align: right;\">\n",
              "      <th></th>\n",
              "      <th>Client Code</th>\n",
              "      <th>Ucc Code</th>\n",
              "      <th>Name</th>\n",
              "      <th>Branch</th>\n",
              "      <th>Ac Open Date</th>\n",
              "    </tr>\n",
              "  </thead>\n",
              "  <tbody>\n",
              "    <tr>\n",
              "      <th>0</th>\n",
              "      <td>AAB803</td>\n",
              "      <td>AAB803</td>\n",
              "      <td>ABHISHEK GITE</td>\n",
              "      <td>HO</td>\n",
              "      <td>2023-09-07</td>\n",
              "    </tr>\n",
              "    <tr>\n",
              "      <th>1</th>\n",
              "      <td>AAB797</td>\n",
              "      <td>AAB797</td>\n",
              "      <td>NEHA JAIN</td>\n",
              "      <td>MB01</td>\n",
              "      <td>2023-09-07</td>\n",
              "    </tr>\n",
              "    <tr>\n",
              "      <th>2</th>\n",
              "      <td>AAB781</td>\n",
              "      <td>AAB781</td>\n",
              "      <td>JITENDRA ADVANI</td>\n",
              "      <td>HO</td>\n",
              "      <td>2023-09-04</td>\n",
              "    </tr>\n",
              "    <tr>\n",
              "      <th>3</th>\n",
              "      <td>AAB630</td>\n",
              "      <td>AAB630</td>\n",
              "      <td>PRIYANKA VIJAY MATAI</td>\n",
              "      <td>DU01</td>\n",
              "      <td>2023-08-18</td>\n",
              "    </tr>\n",
              "    <tr>\n",
              "      <th>4</th>\n",
              "      <td>AAB761</td>\n",
              "      <td>AAB761</td>\n",
              "      <td>RUCHITA HARISHANKAR MAURYA</td>\n",
              "      <td>HO</td>\n",
              "      <td>2023-09-01</td>\n",
              "    </tr>\n",
              "  </tbody>\n",
              "</table>\n",
              "</div>"
            ],
            "text/plain": [
              "  Client Code Ucc Code                        Name Branch Ac Open Date\n",
              "0      AAB803   AAB803               ABHISHEK GITE     HO   2023-09-07\n",
              "1      AAB797   AAB797                   NEHA JAIN   MB01   2023-09-07\n",
              "2      AAB781   AAB781             JITENDRA ADVANI     HO   2023-09-04\n",
              "3      AAB630   AAB630        PRIYANKA VIJAY MATAI   DU01   2023-08-18\n",
              "4      AAB761   AAB761  RUCHITA HARISHANKAR MAURYA     HO   2023-09-01"
            ]
          },
          "execution_count": 53,
          "metadata": {},
          "output_type": "execute_result"
        }
      ],
      "source": [
        "outside_dangal_customer.head()"
      ]
    },
    {
      "cell_type": "code",
      "execution_count": 54,
      "id": "2f2dda61",
      "metadata": {},
      "outputs": [
        {
          "name": "stdout",
          "output_type": "stream",
          "text": [
            "<class 'pandas.core.frame.DataFrame'>\n",
            "Index: 731 entries, 0 to 1198\n",
            "Data columns (total 5 columns):\n",
            " #   Column        Non-Null Count  Dtype         \n",
            "---  ------        --------------  -----         \n",
            " 0   Client Code   731 non-null    object        \n",
            " 1   Ucc Code      731 non-null    object        \n",
            " 2   Name          731 non-null    object        \n",
            " 3   Branch        731 non-null    object        \n",
            " 4   Ac Open Date  731 non-null    datetime64[ns]\n",
            "dtypes: datetime64[ns](1), object(4)\n",
            "memory usage: 34.3+ KB\n"
          ]
        }
      ],
      "source": [
        "outside_dangal_customer.info()"
      ]
    },
    {
      "cell_type": "code",
      "execution_count": 55,
      "id": "fc7a9a30",
      "metadata": {},
      "outputs": [],
      "source": [
        "#customer came during dangal period through AP\n",
        "ap_customer_dangal = drop_rows_by_condition(dangal_customer,(customer['Branch'] == 'HO') | (customer['Branch'] == 'HO01')) "
      ]
    },
    {
      "cell_type": "code",
      "execution_count": 56,
      "id": "a426747c",
      "metadata": {},
      "outputs": [
        {
          "data": {
            "text/html": [
              "<div>\n",
              "<style scoped>\n",
              "    .dataframe tbody tr th:only-of-type {\n",
              "        vertical-align: middle;\n",
              "    }\n",
              "\n",
              "    .dataframe tbody tr th {\n",
              "        vertical-align: top;\n",
              "    }\n",
              "\n",
              "    .dataframe thead th {\n",
              "        text-align: right;\n",
              "    }\n",
              "</style>\n",
              "<table border=\"1\" class=\"dataframe\">\n",
              "  <thead>\n",
              "    <tr style=\"text-align: right;\">\n",
              "      <th></th>\n",
              "      <th>Client Code</th>\n",
              "      <th>UCC</th>\n",
              "      <th>Name</th>\n",
              "      <th>Branch</th>\n",
              "      <th>Ac Open Date</th>\n",
              "    </tr>\n",
              "  </thead>\n",
              "  <tbody>\n",
              "    <tr>\n",
              "      <th>33</th>\n",
              "      <td>AAA713</td>\n",
              "      <td>AAA713</td>\n",
              "      <td>SWATI PODDAR</td>\n",
              "      <td>SG01</td>\n",
              "      <td>2023-05-23</td>\n",
              "    </tr>\n",
              "    <tr>\n",
              "      <th>48</th>\n",
              "      <td>AAB301</td>\n",
              "      <td>AAB301</td>\n",
              "      <td>DANISH NAZIM ALI SAYED</td>\n",
              "      <td>HS01</td>\n",
              "      <td>2023-06-06</td>\n",
              "    </tr>\n",
              "    <tr>\n",
              "      <th>56</th>\n",
              "      <td>AAA715</td>\n",
              "      <td>AAA715</td>\n",
              "      <td>MUSKAN BHANDARI</td>\n",
              "      <td>SD01</td>\n",
              "      <td>2023-05-18</td>\n",
              "    </tr>\n",
              "    <tr>\n",
              "      <th>61</th>\n",
              "      <td>AAA760</td>\n",
              "      <td>AAA760</td>\n",
              "      <td>NEETA SHEWARAM UDASI</td>\n",
              "      <td>DU01</td>\n",
              "      <td>2023-05-18</td>\n",
              "    </tr>\n",
              "    <tr>\n",
              "      <th>66</th>\n",
              "      <td>AAA668</td>\n",
              "      <td>AAA668</td>\n",
              "      <td>SARAL SATISH KUMAR SARANGI</td>\n",
              "      <td>SG01</td>\n",
              "      <td>2023-05-17</td>\n",
              "    </tr>\n",
              "  </tbody>\n",
              "</table>\n",
              "</div>"
            ],
            "text/plain": [
              "   Client Code     UCC                        Name Branch Ac Open Date\n",
              "33      AAA713  AAA713                SWATI PODDAR   SG01   2023-05-23\n",
              "48      AAB301  AAB301      DANISH NAZIM ALI SAYED   HS01   2023-06-06\n",
              "56      AAA715  AAA715             MUSKAN BHANDARI   SD01   2023-05-18\n",
              "61      AAA760  AAA760        NEETA SHEWARAM UDASI   DU01   2023-05-18\n",
              "66      AAA668  AAA668  SARAL SATISH KUMAR SARANGI   SG01   2023-05-17"
            ]
          },
          "execution_count": 56,
          "metadata": {},
          "output_type": "execute_result"
        }
      ],
      "source": [
        "ap_customer_dangal.head()"
      ]
    },
    {
      "cell_type": "code",
      "execution_count": 47,
      "id": "d9f11368",
      "metadata": {},
      "outputs": [
        {
          "name": "stdout",
          "output_type": "stream",
          "text": [
            "<class 'pandas.core.frame.DataFrame'>\n",
            "Index: 104 entries, 33 to 1202\n",
            "Data columns (total 5 columns):\n",
            " #   Column        Non-Null Count  Dtype         \n",
            "---  ------        --------------  -----         \n",
            " 0   Client Code   104 non-null    object        \n",
            " 1   UCC           104 non-null    object        \n",
            " 2   Name          104 non-null    object        \n",
            " 3   Branch        104 non-null    object        \n",
            " 4   Ac Open Date  104 non-null    datetime64[ns]\n",
            "dtypes: datetime64[ns](1), object(4)\n",
            "memory usage: 4.9+ KB\n"
          ]
        }
      ],
      "source": [
        "ap_customer_dangal.info()"
      ]
    },
    {
      "cell_type": "code",
      "execution_count": 48,
      "id": "11c8f42e",
      "metadata": {},
      "outputs": [
        {
          "data": {
            "text/plain": [
              "104"
            ]
          },
          "execution_count": 48,
          "metadata": {},
          "output_type": "execute_result"
        }
      ],
      "source": [
        "ap_customer_dangal['UCC'].count() #number of customer came during dangal period through AP "
      ]
    },
    {
      "cell_type": "code",
      "execution_count": 49,
      "id": "acbe74f7",
      "metadata": {},
      "outputs": [
        {
          "data": {
            "text/html": [
              "<div>\n",
              "<style scoped>\n",
              "    .dataframe tbody tr th:only-of-type {\n",
              "        vertical-align: middle;\n",
              "    }\n",
              "\n",
              "    .dataframe tbody tr th {\n",
              "        vertical-align: top;\n",
              "    }\n",
              "\n",
              "    .dataframe thead th {\n",
              "        text-align: right;\n",
              "    }\n",
              "</style>\n",
              "<table border=\"1\" class=\"dataframe\">\n",
              "  <thead>\n",
              "    <tr style=\"text-align: right;\">\n",
              "      <th></th>\n",
              "      <th>UCC</th>\n",
              "      <th>Clients Name</th>\n",
              "      <th>PAN</th>\n",
              "    </tr>\n",
              "  </thead>\n",
              "  <tbody>\n",
              "    <tr>\n",
              "      <th>0</th>\n",
              "      <td>AAB886</td>\n",
              "      <td>AKASH PRALATHIYA</td>\n",
              "      <td>FZKPP0419L</td>\n",
              "    </tr>\n",
              "    <tr>\n",
              "      <th>1</th>\n",
              "      <td>AAB919</td>\n",
              "      <td>CHIRAG GIRISH UPADHYAY</td>\n",
              "      <td>ADMPU5579M</td>\n",
              "    </tr>\n",
              "    <tr>\n",
              "      <th>2</th>\n",
              "      <td>AAB948</td>\n",
              "      <td>GIRDHARI LAL SONI</td>\n",
              "      <td>ANQPS6222D</td>\n",
              "    </tr>\n",
              "    <tr>\n",
              "      <th>3</th>\n",
              "      <td>AAB850</td>\n",
              "      <td>KRATIKA AGARWAL</td>\n",
              "      <td>DLQPA7653K</td>\n",
              "    </tr>\n",
              "    <tr>\n",
              "      <th>4</th>\n",
              "      <td>AAB353</td>\n",
              "      <td>KISHORE MANOHAR ANGNE</td>\n",
              "      <td>ABPPA0799N</td>\n",
              "    </tr>\n",
              "  </tbody>\n",
              "</table>\n",
              "</div>"
            ],
            "text/plain": [
              "      UCC            Clients Name         PAN\n",
              "0  AAB886        AKASH PRALATHIYA  FZKPP0419L\n",
              "1  AAB919  CHIRAG GIRISH UPADHYAY  ADMPU5579M\n",
              "2  AAB948       GIRDHARI LAL SONI  ANQPS6222D\n",
              "3  AAB850         KRATIKA AGARWAL  DLQPA7653K\n",
              "4  AAB353   KISHORE MANOHAR ANGNE  ABPPA0799N"
            ]
          },
          "execution_count": 49,
          "metadata": {},
          "output_type": "execute_result"
        }
      ],
      "source": [
        "AP_who_are_customer.head()"
      ]
    },
    {
      "cell_type": "code",
      "execution_count": null,
      "id": "6d8b38db",
      "metadata": {},
      "outputs": [],
      "source": []
    },
    {
      "cell_type": "code",
      "execution_count": 50,
      "id": "0c1d47c3",
      "metadata": {},
      "outputs": [
        {
          "data": {
            "text/html": [
              "<div>\n",
              "<style scoped>\n",
              "    .dataframe tbody tr th:only-of-type {\n",
              "        vertical-align: middle;\n",
              "    }\n",
              "\n",
              "    .dataframe tbody tr th {\n",
              "        vertical-align: top;\n",
              "    }\n",
              "\n",
              "    .dataframe thead th {\n",
              "        text-align: right;\n",
              "    }\n",
              "</style>\n",
              "<table border=\"1\" class=\"dataframe\">\n",
              "  <thead>\n",
              "    <tr style=\"text-align: right;\">\n",
              "      <th></th>\n",
              "      <th>Client Code</th>\n",
              "      <th>UCC</th>\n",
              "      <th>Name</th>\n",
              "      <th>Branch</th>\n",
              "      <th>Ac Open Date</th>\n",
              "    </tr>\n",
              "  </thead>\n",
              "  <tbody>\n",
              "    <tr>\n",
              "      <th>33</th>\n",
              "      <td>AAA713</td>\n",
              "      <td>AAA713</td>\n",
              "      <td>SWATI PODDAR</td>\n",
              "      <td>SG01</td>\n",
              "      <td>2023-05-23</td>\n",
              "    </tr>\n",
              "    <tr>\n",
              "      <th>48</th>\n",
              "      <td>AAB301</td>\n",
              "      <td>AAB301</td>\n",
              "      <td>DANISH NAZIM ALI SAYED</td>\n",
              "      <td>HS01</td>\n",
              "      <td>2023-06-06</td>\n",
              "    </tr>\n",
              "    <tr>\n",
              "      <th>56</th>\n",
              "      <td>AAA715</td>\n",
              "      <td>AAA715</td>\n",
              "      <td>MUSKAN BHANDARI</td>\n",
              "      <td>SD01</td>\n",
              "      <td>2023-05-18</td>\n",
              "    </tr>\n",
              "    <tr>\n",
              "      <th>61</th>\n",
              "      <td>AAA760</td>\n",
              "      <td>AAA760</td>\n",
              "      <td>NEETA SHEWARAM UDASI</td>\n",
              "      <td>DU01</td>\n",
              "      <td>2023-05-18</td>\n",
              "    </tr>\n",
              "    <tr>\n",
              "      <th>66</th>\n",
              "      <td>AAA668</td>\n",
              "      <td>AAA668</td>\n",
              "      <td>SARAL SATISH KUMAR SARANGI</td>\n",
              "      <td>SG01</td>\n",
              "      <td>2023-05-17</td>\n",
              "    </tr>\n",
              "  </tbody>\n",
              "</table>\n",
              "</div>"
            ],
            "text/plain": [
              "   Client Code     UCC                        Name Branch Ac Open Date\n",
              "33      AAA713  AAA713                SWATI PODDAR   SG01   2023-05-23\n",
              "48      AAB301  AAB301      DANISH NAZIM ALI SAYED   HS01   2023-06-06\n",
              "56      AAA715  AAA715             MUSKAN BHANDARI   SD01   2023-05-18\n",
              "61      AAA760  AAA760        NEETA SHEWARAM UDASI   DU01   2023-05-18\n",
              "66      AAA668  AAA668  SARAL SATISH KUMAR SARANGI   SG01   2023-05-17"
            ]
          },
          "execution_count": 50,
          "metadata": {},
          "output_type": "execute_result"
        }
      ],
      "source": [
        "ap_customer_dangal.head()"
      ]
    },
    {
      "cell_type": "code",
      "execution_count": 51,
      "id": "f70e0fcd",
      "metadata": {},
      "outputs": [
        {
          "data": {
            "text/plain": [
              "Index(['UCC', 'Clients Name', 'PAN'], dtype='object')"
            ]
          },
          "execution_count": 51,
          "metadata": {},
          "output_type": "execute_result"
        }
      ],
      "source": [
        "AP_who_are_customer.columns"
      ]
    },
    {
      "cell_type": "code",
      "execution_count": 52,
      "id": "605b9733",
      "metadata": {},
      "outputs": [
        {
          "data": {
            "text/plain": [
              "Index(['Client Code', 'UCC', 'Name', 'Branch', 'Ac Open Date'], dtype='object')"
            ]
          },
          "execution_count": 52,
          "metadata": {},
          "output_type": "execute_result"
        }
      ],
      "source": [
        "dangal_customer.columns"
      ]
    },
    {
      "cell_type": "code",
      "execution_count": 53,
      "id": "9846add3",
      "metadata": {
        "scrolled": true
      },
      "outputs": [],
      "source": [
        "AP_who_are_customer_dangal = pd.merge(AP_who_are_customer,ap_customer_dangal,how = 'inner',on = 'UCC')"
      ]
    },
    {
      "cell_type": "code",
      "execution_count": 54,
      "id": "47ac4dd1",
      "metadata": {},
      "outputs": [
        {
          "data": {
            "text/plain": [
              "1"
            ]
          },
          "execution_count": 54,
          "metadata": {},
          "output_type": "execute_result"
        }
      ],
      "source": [
        "AP_who_are_customer_dangal['Client Code'].count()"
      ]
    },
    {
      "cell_type": "code",
      "execution_count": 55,
      "id": "1d884664",
      "metadata": {},
      "outputs": [
        {
          "data": {
            "text/html": [
              "<div>\n",
              "<style scoped>\n",
              "    .dataframe tbody tr th:only-of-type {\n",
              "        vertical-align: middle;\n",
              "    }\n",
              "\n",
              "    .dataframe tbody tr th {\n",
              "        vertical-align: top;\n",
              "    }\n",
              "\n",
              "    .dataframe thead th {\n",
              "        text-align: right;\n",
              "    }\n",
              "</style>\n",
              "<table border=\"1\" class=\"dataframe\">\n",
              "  <thead>\n",
              "    <tr style=\"text-align: right;\">\n",
              "      <th></th>\n",
              "      <th>Sr. No.</th>\n",
              "      <th>Name of Employee</th>\n",
              "      <th>UCC</th>\n",
              "    </tr>\n",
              "  </thead>\n",
              "  <tbody>\n",
              "    <tr>\n",
              "      <th>0</th>\n",
              "      <td>1</td>\n",
              "      <td>Suresh Kumar Ganpat Lal Darak</td>\n",
              "      <td>AAA303</td>\n",
              "    </tr>\n",
              "    <tr>\n",
              "      <th>1</th>\n",
              "      <td>3</td>\n",
              "      <td>Vatsal Gudka</td>\n",
              "      <td>AAA298</td>\n",
              "    </tr>\n",
              "    <tr>\n",
              "      <th>2</th>\n",
              "      <td>5</td>\n",
              "      <td>Siddhi Rawool</td>\n",
              "      <td>AAA330</td>\n",
              "    </tr>\n",
              "    <tr>\n",
              "      <th>3</th>\n",
              "      <td>6</td>\n",
              "      <td>Isha Sameer Kamdar</td>\n",
              "      <td>AAA292</td>\n",
              "    </tr>\n",
              "    <tr>\n",
              "      <th>4</th>\n",
              "      <td>7</td>\n",
              "      <td>Amol Gawde</td>\n",
              "      <td>AAA337</td>\n",
              "    </tr>\n",
              "  </tbody>\n",
              "</table>\n",
              "</div>"
            ],
            "text/plain": [
              "   Sr. No.               Name of Employee     UCC\n",
              "0        1  Suresh Kumar Ganpat Lal Darak  AAA303\n",
              "1        3                   Vatsal Gudka  AAA298\n",
              "2        5                  Siddhi Rawool  AAA330\n",
              "3        6             Isha Sameer Kamdar  AAA292\n",
              "4        7                     Amol Gawde  AAA337"
            ]
          },
          "execution_count": 55,
          "metadata": {},
          "output_type": "execute_result"
        }
      ],
      "source": [
        "employee_customer.head()"
      ]
    },
    {
      "cell_type": "code",
      "execution_count": null,
      "id": "b19b39a6",
      "metadata": {},
      "outputs": [],
      "source": []
    },
    {
      "cell_type": "code",
      "execution_count": 56,
      "id": "1755019b",
      "metadata": {},
      "outputs": [],
      "source": [
        "employee_customer_dangal = pd.merge(employee_customer,dangal_customer,on = 'UCC',how = 'inner')"
      ]
    },
    {
      "cell_type": "code",
      "execution_count": 57,
      "id": "a31db723",
      "metadata": {},
      "outputs": [
        {
          "data": {
            "text/html": [
              "<div>\n",
              "<style scoped>\n",
              "    .dataframe tbody tr th:only-of-type {\n",
              "        vertical-align: middle;\n",
              "    }\n",
              "\n",
              "    .dataframe tbody tr th {\n",
              "        vertical-align: top;\n",
              "    }\n",
              "\n",
              "    .dataframe thead th {\n",
              "        text-align: right;\n",
              "    }\n",
              "</style>\n",
              "<table border=\"1\" class=\"dataframe\">\n",
              "  <thead>\n",
              "    <tr style=\"text-align: right;\">\n",
              "      <th></th>\n",
              "      <th>Sr. No.</th>\n",
              "      <th>Name of Employee</th>\n",
              "      <th>UCC</th>\n",
              "      <th>Client Code</th>\n",
              "      <th>Name</th>\n",
              "      <th>Branch</th>\n",
              "      <th>Ac Open Date</th>\n",
              "    </tr>\n",
              "  </thead>\n",
              "  <tbody>\n",
              "    <tr>\n",
              "      <th>0</th>\n",
              "      <td>7</td>\n",
              "      <td>Amol Gawde</td>\n",
              "      <td>AAA337</td>\n",
              "      <td>AAA337</td>\n",
              "      <td>AMOL CHANDRKANT GAWDE</td>\n",
              "      <td>HO</td>\n",
              "      <td>2023-06-06</td>\n",
              "    </tr>\n",
              "    <tr>\n",
              "      <th>1</th>\n",
              "      <td>10</td>\n",
              "      <td>Akshay Narkar</td>\n",
              "      <td>AAB373</td>\n",
              "      <td>AAB373</td>\n",
              "      <td>AKSHAY ANKUSH NARKAR</td>\n",
              "      <td>HO</td>\n",
              "      <td>2023-06-14</td>\n",
              "    </tr>\n",
              "    <tr>\n",
              "      <th>2</th>\n",
              "      <td>16</td>\n",
              "      <td>Prasant Sinha</td>\n",
              "      <td>AAA766</td>\n",
              "      <td>AAA766</td>\n",
              "      <td>PRASHANT SINHA</td>\n",
              "      <td>HO</td>\n",
              "      <td>2023-05-18</td>\n",
              "    </tr>\n",
              "    <tr>\n",
              "      <th>3</th>\n",
              "      <td>18</td>\n",
              "      <td>Pramod Dubey</td>\n",
              "      <td>AAB378</td>\n",
              "      <td>AAB378</td>\n",
              "      <td>PRAMOD BABULAL DUBEY</td>\n",
              "      <td>HO</td>\n",
              "      <td>2023-06-15</td>\n",
              "    </tr>\n",
              "    <tr>\n",
              "      <th>4</th>\n",
              "      <td>38</td>\n",
              "      <td>Ishwari Surashe</td>\n",
              "      <td>AAA888</td>\n",
              "      <td>AAA888</td>\n",
              "      <td>ISHWARI EKNATH SURASHE</td>\n",
              "      <td>HO</td>\n",
              "      <td>2023-05-25</td>\n",
              "    </tr>\n",
              "  </tbody>\n",
              "</table>\n",
              "</div>"
            ],
            "text/plain": [
              "   Sr. No. Name of Employee     UCC Client Code                    Name  \\\n",
              "0        7       Amol Gawde  AAA337      AAA337   AMOL CHANDRKANT GAWDE   \n",
              "1       10    Akshay Narkar  AAB373      AAB373    AKSHAY ANKUSH NARKAR   \n",
              "2       16    Prasant Sinha  AAA766      AAA766          PRASHANT SINHA   \n",
              "3       18     Pramod Dubey  AAB378      AAB378    PRAMOD BABULAL DUBEY   \n",
              "4       38  Ishwari Surashe  AAA888      AAA888  ISHWARI EKNATH SURASHE   \n",
              "\n",
              "  Branch Ac Open Date  \n",
              "0     HO   2023-06-06  \n",
              "1     HO   2023-06-14  \n",
              "2     HO   2023-05-18  \n",
              "3     HO   2023-06-15  \n",
              "4     HO   2023-05-25  "
            ]
          },
          "execution_count": 57,
          "metadata": {},
          "output_type": "execute_result"
        }
      ],
      "source": [
        "employee_customer_dangal.head()"
      ]
    },
    {
      "cell_type": "code",
      "execution_count": 58,
      "id": "70ffcb73",
      "metadata": {},
      "outputs": [
        {
          "data": {
            "text/html": [
              "<div>\n",
              "<style scoped>\n",
              "    .dataframe tbody tr th:only-of-type {\n",
              "        vertical-align: middle;\n",
              "    }\n",
              "\n",
              "    .dataframe tbody tr th {\n",
              "        vertical-align: top;\n",
              "    }\n",
              "\n",
              "    .dataframe thead th {\n",
              "        text-align: right;\n",
              "    }\n",
              "</style>\n",
              "<table border=\"1\" class=\"dataframe\">\n",
              "  <thead>\n",
              "    <tr style=\"text-align: right;\">\n",
              "      <th></th>\n",
              "      <th>Sr. No.</th>\n",
              "      <th>Name of Employee</th>\n",
              "      <th>UCC</th>\n",
              "      <th>Client Code</th>\n",
              "      <th>Name</th>\n",
              "      <th>Branch</th>\n",
              "      <th>Ac Open Date</th>\n",
              "    </tr>\n",
              "  </thead>\n",
              "  <tbody>\n",
              "    <tr>\n",
              "      <th>0</th>\n",
              "      <td>7</td>\n",
              "      <td>Amol Gawde</td>\n",
              "      <td>AAA337</td>\n",
              "      <td>AAA337</td>\n",
              "      <td>AMOL CHANDRKANT GAWDE</td>\n",
              "      <td>HO</td>\n",
              "      <td>2023-06-06</td>\n",
              "    </tr>\n",
              "    <tr>\n",
              "      <th>1</th>\n",
              "      <td>10</td>\n",
              "      <td>Akshay Narkar</td>\n",
              "      <td>AAB373</td>\n",
              "      <td>AAB373</td>\n",
              "      <td>AKSHAY ANKUSH NARKAR</td>\n",
              "      <td>HO</td>\n",
              "      <td>2023-06-14</td>\n",
              "    </tr>\n",
              "    <tr>\n",
              "      <th>2</th>\n",
              "      <td>16</td>\n",
              "      <td>Prasant Sinha</td>\n",
              "      <td>AAA766</td>\n",
              "      <td>AAA766</td>\n",
              "      <td>PRASHANT SINHA</td>\n",
              "      <td>HO</td>\n",
              "      <td>2023-05-18</td>\n",
              "    </tr>\n",
              "    <tr>\n",
              "      <th>3</th>\n",
              "      <td>18</td>\n",
              "      <td>Pramod Dubey</td>\n",
              "      <td>AAB378</td>\n",
              "      <td>AAB378</td>\n",
              "      <td>PRAMOD BABULAL DUBEY</td>\n",
              "      <td>HO</td>\n",
              "      <td>2023-06-15</td>\n",
              "    </tr>\n",
              "    <tr>\n",
              "      <th>4</th>\n",
              "      <td>38</td>\n",
              "      <td>Ishwari Surashe</td>\n",
              "      <td>AAA888</td>\n",
              "      <td>AAA888</td>\n",
              "      <td>ISHWARI EKNATH SURASHE</td>\n",
              "      <td>HO</td>\n",
              "      <td>2023-05-25</td>\n",
              "    </tr>\n",
              "    <tr>\n",
              "      <th>5</th>\n",
              "      <td>40</td>\n",
              "      <td>Sujata Said</td>\n",
              "      <td>AAA697</td>\n",
              "      <td>AAA697</td>\n",
              "      <td>SUJATA SURESH SAID</td>\n",
              "      <td>HO</td>\n",
              "      <td>2023-05-17</td>\n",
              "    </tr>\n",
              "    <tr>\n",
              "      <th>6</th>\n",
              "      <td>41</td>\n",
              "      <td>Priti Dube</td>\n",
              "      <td>AAA569</td>\n",
              "      <td>AAA569</td>\n",
              "      <td>PRITI RAMNIK DUBE</td>\n",
              "      <td>HO</td>\n",
              "      <td>2023-05-12</td>\n",
              "    </tr>\n",
              "    <tr>\n",
              "      <th>7</th>\n",
              "      <td>52</td>\n",
              "      <td>Siddhesh Mathur</td>\n",
              "      <td>AAA875</td>\n",
              "      <td>AAA875</td>\n",
              "      <td>SIDDHESH MUKESH MATHUR</td>\n",
              "      <td>HO</td>\n",
              "      <td>2023-06-01</td>\n",
              "    </tr>\n",
              "    <tr>\n",
              "      <th>8</th>\n",
              "      <td>53</td>\n",
              "      <td>Anand Jha</td>\n",
              "      <td>AAA855</td>\n",
              "      <td>AAA855</td>\n",
              "      <td>ANAND LAXMAN JHA</td>\n",
              "      <td>HO</td>\n",
              "      <td>2023-05-23</td>\n",
              "    </tr>\n",
              "    <tr>\n",
              "      <th>9</th>\n",
              "      <td>55</td>\n",
              "      <td>Gurpreet Sabarwal</td>\n",
              "      <td>AAB350</td>\n",
              "      <td>AAB350</td>\n",
              "      <td>GURPREET KAUR BALVINDAR SINGH SABARWAL</td>\n",
              "      <td>HS01</td>\n",
              "      <td>2023-06-12</td>\n",
              "    </tr>\n",
              "    <tr>\n",
              "      <th>10</th>\n",
              "      <td>56</td>\n",
              "      <td>Varenya Gutgutia</td>\n",
              "      <td>AAB364</td>\n",
              "      <td>AAB364</td>\n",
              "      <td>VARENYA GUTGUTIA</td>\n",
              "      <td>HO</td>\n",
              "      <td>2023-06-13</td>\n",
              "    </tr>\n",
              "    <tr>\n",
              "      <th>11</th>\n",
              "      <td>66</td>\n",
              "      <td>Pradeep Gurav</td>\n",
              "      <td>AAA727</td>\n",
              "      <td>AAA727</td>\n",
              "      <td>PRADEEP RAJARAM GURAV</td>\n",
              "      <td>HO</td>\n",
              "      <td>2023-05-18</td>\n",
              "    </tr>\n",
              "  </tbody>\n",
              "</table>\n",
              "</div>"
            ],
            "text/plain": [
              "    Sr. No.    Name of Employee     UCC Client Code  \\\n",
              "0         7          Amol Gawde  AAA337      AAA337   \n",
              "1        10       Akshay Narkar  AAB373      AAB373   \n",
              "2        16       Prasant Sinha  AAA766      AAA766   \n",
              "3        18        Pramod Dubey  AAB378      AAB378   \n",
              "4        38     Ishwari Surashe  AAA888      AAA888   \n",
              "5        40         Sujata Said  AAA697      AAA697   \n",
              "6        41          Priti Dube  AAA569      AAA569   \n",
              "7        52    Siddhesh Mathur   AAA875      AAA875   \n",
              "8        53          Anand Jha   AAA855      AAA855   \n",
              "9        55  Gurpreet Sabarwal   AAB350      AAB350   \n",
              "10       56   Varenya Gutgutia   AAB364      AAB364   \n",
              "11       66      Pradeep Gurav   AAA727      AAA727   \n",
              "\n",
              "                                      Name Branch Ac Open Date  \n",
              "0                    AMOL CHANDRKANT GAWDE     HO   2023-06-06  \n",
              "1                     AKSHAY ANKUSH NARKAR     HO   2023-06-14  \n",
              "2                           PRASHANT SINHA     HO   2023-05-18  \n",
              "3                     PRAMOD BABULAL DUBEY     HO   2023-06-15  \n",
              "4                   ISHWARI EKNATH SURASHE     HO   2023-05-25  \n",
              "5                       SUJATA SURESH SAID     HO   2023-05-17  \n",
              "6                        PRITI RAMNIK DUBE     HO   2023-05-12  \n",
              "7                   SIDDHESH MUKESH MATHUR     HO   2023-06-01  \n",
              "8                         ANAND LAXMAN JHA     HO   2023-05-23  \n",
              "9   GURPREET KAUR BALVINDAR SINGH SABARWAL   HS01   2023-06-12  \n",
              "10                        VARENYA GUTGUTIA     HO   2023-06-13  \n",
              "11                   PRADEEP RAJARAM GURAV     HO   2023-05-18  "
            ]
          },
          "execution_count": 58,
          "metadata": {},
          "output_type": "execute_result"
        }
      ],
      "source": [
        "employee_customer_dangal"
      ]
    },
    {
      "cell_type": "code",
      "execution_count": 59,
      "id": "dd798913",
      "metadata": {},
      "outputs": [
        {
          "data": {
            "text/plain": [
              "12"
            ]
          },
          "execution_count": 59,
          "metadata": {},
          "output_type": "execute_result"
        }
      ],
      "source": [
        "employee_customer_dangal['Client Code'].count() #Employees who became customer during dangal period"
      ]
    },
    {
      "cell_type": "code",
      "execution_count": 60,
      "id": "887c18b0",
      "metadata": {},
      "outputs": [
        {
          "data": {
            "text/plain": [
              "472"
            ]
          },
          "execution_count": 60,
          "metadata": {},
          "output_type": "execute_result"
        }
      ],
      "source": [
        "dangal_customer['UCC'].count()"
      ]
    },
    {
      "cell_type": "code",
      "execution_count": 61,
      "id": "c39cccbf",
      "metadata": {},
      "outputs": [
        {
          "data": {
            "text/html": [
              "<div>\n",
              "<style scoped>\n",
              "    .dataframe tbody tr th:only-of-type {\n",
              "        vertical-align: middle;\n",
              "    }\n",
              "\n",
              "    .dataframe tbody tr th {\n",
              "        vertical-align: top;\n",
              "    }\n",
              "\n",
              "    .dataframe thead th {\n",
              "        text-align: right;\n",
              "    }\n",
              "</style>\n",
              "<table border=\"1\" class=\"dataframe\">\n",
              "  <thead>\n",
              "    <tr style=\"text-align: right;\">\n",
              "      <th></th>\n",
              "      <th>Category</th>\n",
              "      <th>Count</th>\n",
              "    </tr>\n",
              "  </thead>\n",
              "  <tbody>\n",
              "    <tr>\n",
              "      <th>0</th>\n",
              "      <td>Total Customers</td>\n",
              "      <td>1203</td>\n",
              "    </tr>\n",
              "    <tr>\n",
              "      <th>1</th>\n",
              "      <td>AP Who Are Customers</td>\n",
              "      <td>81</td>\n",
              "    </tr>\n",
              "    <tr>\n",
              "      <th>2</th>\n",
              "      <td>Customers Brought by AP</td>\n",
              "      <td>395</td>\n",
              "    </tr>\n",
              "    <tr>\n",
              "      <th>3</th>\n",
              "      <td>Employees Who Are Customers</td>\n",
              "      <td>64</td>\n",
              "    </tr>\n",
              "    <tr>\n",
              "      <th>4</th>\n",
              "      <td>Outside Customers</td>\n",
              "      <td>663</td>\n",
              "    </tr>\n",
              "  </tbody>\n",
              "</table>\n",
              "</div>"
            ],
            "text/plain": [
              "                      Category  Count\n",
              "0              Total Customers   1203\n",
              "1         AP Who Are Customers     81\n",
              "2      Customers Brought by AP    395\n",
              "3  Employees Who Are Customers     64\n",
              "4            Outside Customers    663"
            ]
          },
          "execution_count": 61,
          "metadata": {},
          "output_type": "execute_result"
        }
      ],
      "source": [
        "customer_overview"
      ]
    },
    {
      "cell_type": "code",
      "execution_count": 62,
      "id": "13e21425",
      "metadata": {},
      "outputs": [],
      "source": [
        "dangal_total_customer = dangal_customer['UCC'].count()"
      ]
    },
    {
      "cell_type": "code",
      "execution_count": 63,
      "id": "19e3687d",
      "metadata": {},
      "outputs": [],
      "source": [
        "dangal_count_of_AP_who_are_customer =  AP_who_are_customer_dangal['Client Code'].count()"
      ]
    },
    {
      "cell_type": "code",
      "execution_count": 64,
      "id": "4f05323a",
      "metadata": {},
      "outputs": [],
      "source": [
        "dangal_AP_Customer_count = ap_customer_dangal['UCC'].count()"
      ]
    },
    {
      "cell_type": "code",
      "execution_count": 65,
      "id": "06ba461f",
      "metadata": {},
      "outputs": [],
      "source": [
        "dangal_employee_customer_count = employee_customer_dangal['Client Code'].count()"
      ]
    },
    {
      "cell_type": "code",
      "execution_count": 66,
      "id": "455dcae2",
      "metadata": {},
      "outputs": [],
      "source": [
        "dangal_outside_client = dangal_total_customer - dangal_count_of_AP_who_are_customer - dangal_AP_Customer_count - dangal_employee_customer_count"
      ]
    },
    {
      "cell_type": "code",
      "execution_count": null,
      "id": "5e625b52",
      "metadata": {},
      "outputs": [],
      "source": []
    },
    {
      "cell_type": "code",
      "execution_count": 67,
      "id": "c05661ba",
      "metadata": {},
      "outputs": [],
      "source": [
        "data1 = {\n",
        "    'Category': ['Total Customers', 'AP Who Are Customers', 'Customers Brought by AP', 'Employees Who Are Customers', 'Outside Customers'],\n",
        "    'Count': [dangal_total_customer, dangal_count_of_AP_who_are_customer, dangal_AP_Customer_count, dangal_employee_customer_count, dangal_outside_client]\n",
        "}\n",
        "dangal_customer_overview = pd.DataFrame(data1)"
      ]
    },
    {
      "cell_type": "code",
      "execution_count": 68,
      "id": "7f6027ac",
      "metadata": {},
      "outputs": [
        {
          "data": {
            "text/html": [
              "<div>\n",
              "<style scoped>\n",
              "    .dataframe tbody tr th:only-of-type {\n",
              "        vertical-align: middle;\n",
              "    }\n",
              "\n",
              "    .dataframe tbody tr th {\n",
              "        vertical-align: top;\n",
              "    }\n",
              "\n",
              "    .dataframe thead th {\n",
              "        text-align: right;\n",
              "    }\n",
              "</style>\n",
              "<table border=\"1\" class=\"dataframe\">\n",
              "  <thead>\n",
              "    <tr style=\"text-align: right;\">\n",
              "      <th></th>\n",
              "      <th>Category</th>\n",
              "      <th>Count</th>\n",
              "    </tr>\n",
              "  </thead>\n",
              "  <tbody>\n",
              "    <tr>\n",
              "      <th>0</th>\n",
              "      <td>Total Customers</td>\n",
              "      <td>472</td>\n",
              "    </tr>\n",
              "    <tr>\n",
              "      <th>1</th>\n",
              "      <td>AP Who Are Customers</td>\n",
              "      <td>1</td>\n",
              "    </tr>\n",
              "    <tr>\n",
              "      <th>2</th>\n",
              "      <td>Customers Brought by AP</td>\n",
              "      <td>104</td>\n",
              "    </tr>\n",
              "    <tr>\n",
              "      <th>3</th>\n",
              "      <td>Employees Who Are Customers</td>\n",
              "      <td>12</td>\n",
              "    </tr>\n",
              "    <tr>\n",
              "      <th>4</th>\n",
              "      <td>Outside Customers</td>\n",
              "      <td>355</td>\n",
              "    </tr>\n",
              "  </tbody>\n",
              "</table>\n",
              "</div>"
            ],
            "text/plain": [
              "                      Category  Count\n",
              "0              Total Customers    472\n",
              "1         AP Who Are Customers      1\n",
              "2      Customers Brought by AP    104\n",
              "3  Employees Who Are Customers     12\n",
              "4            Outside Customers    355"
            ]
          },
          "execution_count": 68,
          "metadata": {},
          "output_type": "execute_result"
        }
      ],
      "source": [
        "dangal_customer_overview"
      ]
    },
    {
      "cell_type": "code",
      "execution_count": 69,
      "id": "500d67de",
      "metadata": {},
      "outputs": [],
      "source": [
        "data = {\n",
        "    'Category': ['Total Customers', 'AP Who Are Customers', 'Customers Brought by AP', 'Employees Who Are Customers', 'Outside Customers'],\n",
        "    'Count': [total_number_customer, count_of_AP_who_are_customer, AP_Customer_count, employee_customer_count, outside_client]\n",
        "}\n",
        "customer_overview = pd.DataFrame(data)"
      ]
    },
    {
      "cell_type": "code",
      "execution_count": 79,
      "id": "01e5aa3c",
      "metadata": {},
      "outputs": [
        {
          "data": {
            "text/html": [
              "<div>\n",
              "<style scoped>\n",
              "    .dataframe tbody tr th:only-of-type {\n",
              "        vertical-align: middle;\n",
              "    }\n",
              "\n",
              "    .dataframe tbody tr th {\n",
              "        vertical-align: top;\n",
              "    }\n",
              "\n",
              "    .dataframe thead th {\n",
              "        text-align: right;\n",
              "    }\n",
              "</style>\n",
              "<table border=\"1\" class=\"dataframe\">\n",
              "  <thead>\n",
              "    <tr style=\"text-align: right;\">\n",
              "      <th></th>\n",
              "      <th>Client Code</th>\n",
              "      <th>Ucc Code</th>\n",
              "      <th>Name</th>\n",
              "      <th>Branch</th>\n",
              "      <th>Ac Open Date</th>\n",
              "    </tr>\n",
              "  </thead>\n",
              "  <tbody>\n",
              "    <tr>\n",
              "      <th>0</th>\n",
              "      <td>AAB803</td>\n",
              "      <td>AAB803</td>\n",
              "      <td>ABHISHEK GITE</td>\n",
              "      <td>HO</td>\n",
              "      <td>2023-09-07</td>\n",
              "    </tr>\n",
              "    <tr>\n",
              "      <th>1</th>\n",
              "      <td>AAB797</td>\n",
              "      <td>AAB797</td>\n",
              "      <td>NEHA JAIN</td>\n",
              "      <td>MB01</td>\n",
              "      <td>2023-09-07</td>\n",
              "    </tr>\n",
              "    <tr>\n",
              "      <th>2</th>\n",
              "      <td>AAB781</td>\n",
              "      <td>AAB781</td>\n",
              "      <td>JITENDRA ADVANI</td>\n",
              "      <td>HO</td>\n",
              "      <td>2023-09-04</td>\n",
              "    </tr>\n",
              "    <tr>\n",
              "      <th>3</th>\n",
              "      <td>AAB630</td>\n",
              "      <td>AAB630</td>\n",
              "      <td>PRIYANKA VIJAY MATAI</td>\n",
              "      <td>DU01</td>\n",
              "      <td>2023-08-18</td>\n",
              "    </tr>\n",
              "    <tr>\n",
              "      <th>4</th>\n",
              "      <td>AAB761</td>\n",
              "      <td>AAB761</td>\n",
              "      <td>RUCHITA HARISHANKAR MAURYA</td>\n",
              "      <td>HO</td>\n",
              "      <td>2023-09-01</td>\n",
              "    </tr>\n",
              "  </tbody>\n",
              "</table>\n",
              "</div>"
            ],
            "text/plain": [
              "  Client Code Ucc Code                        Name Branch Ac Open Date\n",
              "0      AAB803   AAB803               ABHISHEK GITE     HO   2023-09-07\n",
              "1      AAB797   AAB797                   NEHA JAIN   MB01   2023-09-07\n",
              "2      AAB781   AAB781             JITENDRA ADVANI     HO   2023-09-04\n",
              "3      AAB630   AAB630        PRIYANKA VIJAY MATAI   DU01   2023-08-18\n",
              "4      AAB761   AAB761  RUCHITA HARISHANKAR MAURYA     HO   2023-09-01"
            ]
          },
          "execution_count": 79,
          "metadata": {},
          "output_type": "execute_result"
        }
      ],
      "source": [
        "outside_dangal_customer.head()"
      ]
    },
    {
      "cell_type": "code",
      "execution_count": 81,
      "id": "4c5d3d0b",
      "metadata": {},
      "outputs": [],
      "source": [
        "total_outside_customer = outside_dangal_customer['Ucc Code'].count()"
      ]
    },
    {
      "cell_type": "code",
      "execution_count": 82,
      "id": "d2c13049",
      "metadata": {},
      "outputs": [
        {
          "data": {
            "text/plain": [
              "731"
            ]
          },
          "execution_count": 82,
          "metadata": {},
          "output_type": "execute_result"
        }
      ],
      "source": [
        "total_outside_customer"
      ]
    },
    {
      "cell_type": "code",
      "execution_count": 84,
      "id": "1feecf53",
      "metadata": {},
      "outputs": [],
      "source": [
        "outside_dangal_customer.rename(columns = {'Ucc Code':'UCC'},inplace = True)"
      ]
    },
    {
      "cell_type": "code",
      "execution_count": 85,
      "id": "28a37c74",
      "metadata": {},
      "outputs": [
        {
          "data": {
            "text/html": [
              "<div>\n",
              "<style scoped>\n",
              "    .dataframe tbody tr th:only-of-type {\n",
              "        vertical-align: middle;\n",
              "    }\n",
              "\n",
              "    .dataframe tbody tr th {\n",
              "        vertical-align: top;\n",
              "    }\n",
              "\n",
              "    .dataframe thead th {\n",
              "        text-align: right;\n",
              "    }\n",
              "</style>\n",
              "<table border=\"1\" class=\"dataframe\">\n",
              "  <thead>\n",
              "    <tr style=\"text-align: right;\">\n",
              "      <th></th>\n",
              "      <th>Client Code</th>\n",
              "      <th>UCC</th>\n",
              "      <th>Name</th>\n",
              "      <th>Branch</th>\n",
              "      <th>Ac Open Date</th>\n",
              "    </tr>\n",
              "  </thead>\n",
              "  <tbody>\n",
              "    <tr>\n",
              "      <th>0</th>\n",
              "      <td>AAB803</td>\n",
              "      <td>AAB803</td>\n",
              "      <td>ABHISHEK GITE</td>\n",
              "      <td>HO</td>\n",
              "      <td>2023-09-07</td>\n",
              "    </tr>\n",
              "    <tr>\n",
              "      <th>1</th>\n",
              "      <td>AAB797</td>\n",
              "      <td>AAB797</td>\n",
              "      <td>NEHA JAIN</td>\n",
              "      <td>MB01</td>\n",
              "      <td>2023-09-07</td>\n",
              "    </tr>\n",
              "    <tr>\n",
              "      <th>2</th>\n",
              "      <td>AAB781</td>\n",
              "      <td>AAB781</td>\n",
              "      <td>JITENDRA ADVANI</td>\n",
              "      <td>HO</td>\n",
              "      <td>2023-09-04</td>\n",
              "    </tr>\n",
              "    <tr>\n",
              "      <th>3</th>\n",
              "      <td>AAB630</td>\n",
              "      <td>AAB630</td>\n",
              "      <td>PRIYANKA VIJAY MATAI</td>\n",
              "      <td>DU01</td>\n",
              "      <td>2023-08-18</td>\n",
              "    </tr>\n",
              "    <tr>\n",
              "      <th>4</th>\n",
              "      <td>AAB761</td>\n",
              "      <td>AAB761</td>\n",
              "      <td>RUCHITA HARISHANKAR MAURYA</td>\n",
              "      <td>HO</td>\n",
              "      <td>2023-09-01</td>\n",
              "    </tr>\n",
              "  </tbody>\n",
              "</table>\n",
              "</div>"
            ],
            "text/plain": [
              "  Client Code     UCC                        Name Branch Ac Open Date\n",
              "0      AAB803  AAB803               ABHISHEK GITE     HO   2023-09-07\n",
              "1      AAB797  AAB797                   NEHA JAIN   MB01   2023-09-07\n",
              "2      AAB781  AAB781             JITENDRA ADVANI     HO   2023-09-04\n",
              "3      AAB630  AAB630        PRIYANKA VIJAY MATAI   DU01   2023-08-18\n",
              "4      AAB761  AAB761  RUCHITA HARISHANKAR MAURYA     HO   2023-09-01"
            ]
          },
          "execution_count": 85,
          "metadata": {},
          "output_type": "execute_result"
        }
      ],
      "source": [
        "outside_dangal_customer.head()"
      ]
    },
    {
      "cell_type": "code",
      "execution_count": 91,
      "id": "eee75fb7",
      "metadata": {},
      "outputs": [],
      "source": [
        "ap_who_are_custome_outside_dangal = pd.merge(AP_who_are_customer,outside_dangal_customer,on = 'UCC',how = 'left')"
      ]
    },
    {
      "cell_type": "code",
      "execution_count": 92,
      "id": "b2520268",
      "metadata": {},
      "outputs": [
        {
          "name": "stdout",
          "output_type": "stream",
          "text": [
            "<class 'pandas.core.frame.DataFrame'>\n",
            "RangeIndex: 81 entries, 0 to 80\n",
            "Data columns (total 7 columns):\n",
            " #   Column        Non-Null Count  Dtype         \n",
            "---  ------        --------------  -----         \n",
            " 0   UCC           81 non-null     object        \n",
            " 1   Clients Name  81 non-null     object        \n",
            " 2   PAN           81 non-null     object        \n",
            " 3   Client Code   64 non-null     object        \n",
            " 4   Name          64 non-null     object        \n",
            " 5   Branch        64 non-null     object        \n",
            " 6   Ac Open Date  64 non-null     datetime64[ns]\n",
            "dtypes: datetime64[ns](1), object(6)\n",
            "memory usage: 4.6+ KB\n"
          ]
        }
      ],
      "source": [
        "ap_who_are_custome_outside_dangal.info()"
      ]
    },
    {
      "cell_type": "code",
      "execution_count": 88,
      "id": "2ac65602",
      "metadata": {},
      "outputs": [],
      "source": [
        "ap_who_are_custome_outside_dangal = ap_who_are_custome_outside_dangal.dropna()"
      ]
    },
    {
      "cell_type": "code",
      "execution_count": 89,
      "id": "d106b58f",
      "metadata": {},
      "outputs": [
        {
          "data": {
            "text/html": [
              "<div>\n",
              "<style scoped>\n",
              "    .dataframe tbody tr th:only-of-type {\n",
              "        vertical-align: middle;\n",
              "    }\n",
              "\n",
              "    .dataframe tbody tr th {\n",
              "        vertical-align: top;\n",
              "    }\n",
              "\n",
              "    .dataframe thead th {\n",
              "        text-align: right;\n",
              "    }\n",
              "</style>\n",
              "<table border=\"1\" class=\"dataframe\">\n",
              "  <thead>\n",
              "    <tr style=\"text-align: right;\">\n",
              "      <th></th>\n",
              "      <th>UCC</th>\n",
              "      <th>Clients Name</th>\n",
              "      <th>PAN</th>\n",
              "      <th>Client Code</th>\n",
              "      <th>Name</th>\n",
              "      <th>Branch</th>\n",
              "      <th>Ac Open Date</th>\n",
              "    </tr>\n",
              "  </thead>\n",
              "  <tbody>\n",
              "    <tr>\n",
              "      <th>0</th>\n",
              "      <td>AAB886</td>\n",
              "      <td>AKASH PRALATHIYA</td>\n",
              "      <td>FZKPP0419L</td>\n",
              "      <td>AAB886</td>\n",
              "      <td>AKASH PRALATHIYA</td>\n",
              "      <td>HO</td>\n",
              "      <td>2023-09-21</td>\n",
              "    </tr>\n",
              "    <tr>\n",
              "      <th>1</th>\n",
              "      <td>AAB919</td>\n",
              "      <td>CHIRAG GIRISH UPADHYAY</td>\n",
              "      <td>ADMPU5579M</td>\n",
              "      <td>AAB919</td>\n",
              "      <td>CHIRAG GIRISH UPADHYAY</td>\n",
              "      <td>HO</td>\n",
              "      <td>2023-09-28</td>\n",
              "    </tr>\n",
              "    <tr>\n",
              "      <th>2</th>\n",
              "      <td>AAB948</td>\n",
              "      <td>GIRDHARI LAL SONI</td>\n",
              "      <td>ANQPS6222D</td>\n",
              "      <td>AAB948</td>\n",
              "      <td>GIRDHARI LAL SONI</td>\n",
              "      <td>HO</td>\n",
              "      <td>2023-10-04</td>\n",
              "    </tr>\n",
              "    <tr>\n",
              "      <th>3</th>\n",
              "      <td>AAB850</td>\n",
              "      <td>KRATIKA AGARWAL</td>\n",
              "      <td>DLQPA7653K</td>\n",
              "      <td>AAB850</td>\n",
              "      <td>KRATIKA AGARWAL</td>\n",
              "      <td>HO</td>\n",
              "      <td>2023-09-12</td>\n",
              "    </tr>\n",
              "    <tr>\n",
              "      <th>9</th>\n",
              "      <td>AAA373</td>\n",
              "      <td>PURUSHOTTAM DARAK</td>\n",
              "      <td>AECPD3570L</td>\n",
              "      <td>AAA373</td>\n",
              "      <td>PURUSHOTTAM DARAK</td>\n",
              "      <td>HO</td>\n",
              "      <td>2023-01-09</td>\n",
              "    </tr>\n",
              "  </tbody>\n",
              "</table>\n",
              "</div>"
            ],
            "text/plain": [
              "      UCC            Clients Name         PAN Client Code  \\\n",
              "0  AAB886        AKASH PRALATHIYA  FZKPP0419L      AAB886   \n",
              "1  AAB919  CHIRAG GIRISH UPADHYAY  ADMPU5579M      AAB919   \n",
              "2  AAB948       GIRDHARI LAL SONI  ANQPS6222D      AAB948   \n",
              "3  AAB850         KRATIKA AGARWAL  DLQPA7653K      AAB850   \n",
              "9  AAA373       PURUSHOTTAM DARAK  AECPD3570L      AAA373   \n",
              "\n",
              "                     Name Branch Ac Open Date  \n",
              "0        AKASH PRALATHIYA     HO   2023-09-21  \n",
              "1  CHIRAG GIRISH UPADHYAY     HO   2023-09-28  \n",
              "2       GIRDHARI LAL SONI     HO   2023-10-04  \n",
              "3         KRATIKA AGARWAL     HO   2023-09-12  \n",
              "9       PURUSHOTTAM DARAK     HO   2023-01-09  "
            ]
          },
          "execution_count": 89,
          "metadata": {},
          "output_type": "execute_result"
        }
      ],
      "source": [
        "ap_who_are_custome_outside_dangal.head()"
      ]
    },
    {
      "cell_type": "code",
      "execution_count": 90,
      "id": "aae65036",
      "metadata": {},
      "outputs": [
        {
          "name": "stdout",
          "output_type": "stream",
          "text": [
            "<class 'pandas.core.frame.DataFrame'>\n",
            "Index: 64 entries, 0 to 80\n",
            "Data columns (total 7 columns):\n",
            " #   Column        Non-Null Count  Dtype         \n",
            "---  ------        --------------  -----         \n",
            " 0   UCC           64 non-null     object        \n",
            " 1   Clients Name  64 non-null     object        \n",
            " 2   PAN           64 non-null     object        \n",
            " 3   Client Code   64 non-null     object        \n",
            " 4   Name          64 non-null     object        \n",
            " 5   Branch        64 non-null     object        \n",
            " 6   Ac Open Date  64 non-null     datetime64[ns]\n",
            "dtypes: datetime64[ns](1), object(6)\n",
            "memory usage: 4.0+ KB\n"
          ]
        }
      ],
      "source": [
        "ap_who_are_custome_outside_dangal.info()"
      ]
    },
    {
      "cell_type": "code",
      "execution_count": 93,
      "id": "6c70d3c8",
      "metadata": {},
      "outputs": [],
      "source": [
        "customer_brought_by_ap_outside_dangal = drop_rows_by_condition(outside_dangal_customer,((customer['Branch'] == 'HO') | (customer['Branch'] == 'HO01')))"
      ]
    },
    {
      "cell_type": "code",
      "execution_count": 94,
      "id": "47a9694f",
      "metadata": {},
      "outputs": [
        {
          "data": {
            "text/html": [
              "<div>\n",
              "<style scoped>\n",
              "    .dataframe tbody tr th:only-of-type {\n",
              "        vertical-align: middle;\n",
              "    }\n",
              "\n",
              "    .dataframe tbody tr th {\n",
              "        vertical-align: top;\n",
              "    }\n",
              "\n",
              "    .dataframe thead th {\n",
              "        text-align: right;\n",
              "    }\n",
              "</style>\n",
              "<table border=\"1\" class=\"dataframe\">\n",
              "  <thead>\n",
              "    <tr style=\"text-align: right;\">\n",
              "      <th></th>\n",
              "      <th>Client Code</th>\n",
              "      <th>UCC</th>\n",
              "      <th>Name</th>\n",
              "      <th>Branch</th>\n",
              "      <th>Ac Open Date</th>\n",
              "    </tr>\n",
              "  </thead>\n",
              "  <tbody>\n",
              "    <tr>\n",
              "      <th>1</th>\n",
              "      <td>AAB797</td>\n",
              "      <td>AAB797</td>\n",
              "      <td>NEHA JAIN</td>\n",
              "      <td>MB01</td>\n",
              "      <td>2023-09-07</td>\n",
              "    </tr>\n",
              "    <tr>\n",
              "      <th>3</th>\n",
              "      <td>AAB630</td>\n",
              "      <td>AAB630</td>\n",
              "      <td>PRIYANKA VIJAY MATAI</td>\n",
              "      <td>DU01</td>\n",
              "      <td>2023-08-18</td>\n",
              "    </tr>\n",
              "    <tr>\n",
              "      <th>7</th>\n",
              "      <td>AAB908</td>\n",
              "      <td>AAB908</td>\n",
              "      <td>SHITAL KANTILAL KHATRANI</td>\n",
              "      <td>RSS04</td>\n",
              "      <td>2023-09-26</td>\n",
              "    </tr>\n",
              "    <tr>\n",
              "      <th>13</th>\n",
              "      <td>AAB936</td>\n",
              "      <td>AAB936</td>\n",
              "      <td>JAYSHREEBEN ANANTRAI RAVAL</td>\n",
              "      <td>AT01</td>\n",
              "      <td>2023-10-04</td>\n",
              "    </tr>\n",
              "    <tr>\n",
              "      <th>15</th>\n",
              "      <td>AAB980</td>\n",
              "      <td>AAB980</td>\n",
              "      <td>JAYDIP VASANT GODSE</td>\n",
              "      <td>RKG02</td>\n",
              "      <td>2023-10-12</td>\n",
              "    </tr>\n",
              "  </tbody>\n",
              "</table>\n",
              "</div>"
            ],
            "text/plain": [
              "   Client Code     UCC                        Name Branch Ac Open Date\n",
              "1       AAB797  AAB797                   NEHA JAIN   MB01   2023-09-07\n",
              "3       AAB630  AAB630        PRIYANKA VIJAY MATAI   DU01   2023-08-18\n",
              "7       AAB908  AAB908    SHITAL KANTILAL KHATRANI  RSS04   2023-09-26\n",
              "13      AAB936  AAB936  JAYSHREEBEN ANANTRAI RAVAL   AT01   2023-10-04\n",
              "15      AAB980  AAB980         JAYDIP VASANT GODSE  RKG02   2023-10-12"
            ]
          },
          "execution_count": 94,
          "metadata": {},
          "output_type": "execute_result"
        }
      ],
      "source": [
        "customer_brought_by_ap_outside_dangal.head()"
      ]
    },
    {
      "cell_type": "code",
      "execution_count": 95,
      "id": "4e0ba0da",
      "metadata": {},
      "outputs": [
        {
          "data": {
            "text/plain": [
              "291"
            ]
          },
          "execution_count": 95,
          "metadata": {},
          "output_type": "execute_result"
        }
      ],
      "source": [
        "customer_brought_by_ap_outside_dangal['Client Code'].count()"
      ]
    },
    {
      "cell_type": "code",
      "execution_count": 96,
      "id": "f372c060",
      "metadata": {},
      "outputs": [],
      "source": [
        "employee_customer_outside_dangal = pd.merge(employee_customer,outside_dangal_customer,on = 'UCC',how = 'inner')"
      ]
    },
    {
      "cell_type": "code",
      "execution_count": 97,
      "id": "76380b25",
      "metadata": {},
      "outputs": [
        {
          "data": {
            "text/html": [
              "<div>\n",
              "<style scoped>\n",
              "    .dataframe tbody tr th:only-of-type {\n",
              "        vertical-align: middle;\n",
              "    }\n",
              "\n",
              "    .dataframe tbody tr th {\n",
              "        vertical-align: top;\n",
              "    }\n",
              "\n",
              "    .dataframe thead th {\n",
              "        text-align: right;\n",
              "    }\n",
              "</style>\n",
              "<table border=\"1\" class=\"dataframe\">\n",
              "  <thead>\n",
              "    <tr style=\"text-align: right;\">\n",
              "      <th></th>\n",
              "      <th>Sr. No.</th>\n",
              "      <th>Name of Employee</th>\n",
              "      <th>UCC</th>\n",
              "      <th>Client Code</th>\n",
              "      <th>Name</th>\n",
              "      <th>Branch</th>\n",
              "      <th>Ac Open Date</th>\n",
              "    </tr>\n",
              "  </thead>\n",
              "  <tbody>\n",
              "    <tr>\n",
              "      <th>0</th>\n",
              "      <td>1</td>\n",
              "      <td>Suresh Kumar Ganpat Lal Darak</td>\n",
              "      <td>AAA303</td>\n",
              "      <td>AAA303</td>\n",
              "      <td>SURESH KUMAR GANPAT LAL DARAK</td>\n",
              "      <td>HO</td>\n",
              "      <td>2022-11-21</td>\n",
              "    </tr>\n",
              "    <tr>\n",
              "      <th>1</th>\n",
              "      <td>3</td>\n",
              "      <td>Vatsal Gudka</td>\n",
              "      <td>AAA298</td>\n",
              "      <td>AAA298</td>\n",
              "      <td>VATSAL AMIT GUDKA</td>\n",
              "      <td>HO</td>\n",
              "      <td>2022-11-17</td>\n",
              "    </tr>\n",
              "    <tr>\n",
              "      <th>2</th>\n",
              "      <td>5</td>\n",
              "      <td>Siddhi Rawool</td>\n",
              "      <td>AAA330</td>\n",
              "      <td>AAA330</td>\n",
              "      <td>SIDDHI BHALCHANDRA RAWOOL</td>\n",
              "      <td>HO</td>\n",
              "      <td>2022-12-05</td>\n",
              "    </tr>\n",
              "    <tr>\n",
              "      <th>3</th>\n",
              "      <td>6</td>\n",
              "      <td>Isha Sameer Kamdar</td>\n",
              "      <td>AAA292</td>\n",
              "      <td>AAA292</td>\n",
              "      <td>ISHA SAMEER KAMDAR</td>\n",
              "      <td>SK01</td>\n",
              "      <td>2022-11-15</td>\n",
              "    </tr>\n",
              "    <tr>\n",
              "      <th>4</th>\n",
              "      <td>8</td>\n",
              "      <td>Samir Agarwal</td>\n",
              "      <td>AAA293</td>\n",
              "      <td>AAA293</td>\n",
              "      <td>SAMIR AGARWAL</td>\n",
              "      <td>HO</td>\n",
              "      <td>2022-11-16</td>\n",
              "    </tr>\n",
              "  </tbody>\n",
              "</table>\n",
              "</div>"
            ],
            "text/plain": [
              "   Sr. No.               Name of Employee     UCC Client Code  \\\n",
              "0        1  Suresh Kumar Ganpat Lal Darak  AAA303      AAA303   \n",
              "1        3                   Vatsal Gudka  AAA298      AAA298   \n",
              "2        5                  Siddhi Rawool  AAA330      AAA330   \n",
              "3        6             Isha Sameer Kamdar  AAA292      AAA292   \n",
              "4        8                  Samir Agarwal  AAA293      AAA293   \n",
              "\n",
              "                            Name Branch Ac Open Date  \n",
              "0  SURESH KUMAR GANPAT LAL DARAK     HO   2022-11-21  \n",
              "1              VATSAL AMIT GUDKA     HO   2022-11-17  \n",
              "2      SIDDHI BHALCHANDRA RAWOOL     HO   2022-12-05  \n",
              "3             ISHA SAMEER KAMDAR   SK01   2022-11-15  \n",
              "4                  SAMIR AGARWAL     HO   2022-11-16  "
            ]
          },
          "execution_count": 97,
          "metadata": {},
          "output_type": "execute_result"
        }
      ],
      "source": [
        "employee_customer_outside_dangal.head()"
      ]
    },
    {
      "cell_type": "code",
      "execution_count": 99,
      "id": "dd313107",
      "metadata": {},
      "outputs": [
        {
          "data": {
            "text/plain": [
              "52"
            ]
          },
          "execution_count": 99,
          "metadata": {},
          "output_type": "execute_result"
        }
      ],
      "source": [
        "employee_customer_outside_dangal['UCC'].count()"
      ]
    },
    {
      "cell_type": "code",
      "execution_count": 100,
      "id": "68869e1c",
      "metadata": {},
      "outputs": [
        {
          "data": {
            "text/html": [
              "<div>\n",
              "<style scoped>\n",
              "    .dataframe tbody tr th:only-of-type {\n",
              "        vertical-align: middle;\n",
              "    }\n",
              "\n",
              "    .dataframe tbody tr th {\n",
              "        vertical-align: top;\n",
              "    }\n",
              "\n",
              "    .dataframe thead th {\n",
              "        text-align: right;\n",
              "    }\n",
              "</style>\n",
              "<table border=\"1\" class=\"dataframe\">\n",
              "  <thead>\n",
              "    <tr style=\"text-align: right;\">\n",
              "      <th></th>\n",
              "      <th>Sr. No.</th>\n",
              "      <th>Name of Employee</th>\n",
              "      <th>UCC</th>\n",
              "      <th>Client Code</th>\n",
              "      <th>Name</th>\n",
              "      <th>Branch</th>\n",
              "      <th>Ac Open Date</th>\n",
              "    </tr>\n",
              "  </thead>\n",
              "  <tbody>\n",
              "    <tr>\n",
              "      <th>3</th>\n",
              "      <td>6</td>\n",
              "      <td>Isha Sameer Kamdar</td>\n",
              "      <td>AAA292</td>\n",
              "      <td>AAA292</td>\n",
              "      <td>ISHA SAMEER KAMDAR</td>\n",
              "      <td>SK01</td>\n",
              "      <td>2022-11-15</td>\n",
              "    </tr>\n",
              "    <tr>\n",
              "      <th>9</th>\n",
              "      <td>14</td>\n",
              "      <td>Harsha Khorana</td>\n",
              "      <td>AAB698</td>\n",
              "      <td>AAB698</td>\n",
              "      <td>UDAY PARASHURAM RENAKE</td>\n",
              "      <td>PD02</td>\n",
              "      <td>2023-08-29</td>\n",
              "    </tr>\n",
              "    <tr>\n",
              "      <th>16</th>\n",
              "      <td>23</td>\n",
              "      <td>Kiran Bapurao Pawar</td>\n",
              "      <td>AAA230</td>\n",
              "      <td>AAA230</td>\n",
              "      <td>KIRAN BAPURAO PAWAR</td>\n",
              "      <td>HS01</td>\n",
              "      <td>2022-10-11</td>\n",
              "    </tr>\n",
              "    <tr>\n",
              "      <th>22</th>\n",
              "      <td>30</td>\n",
              "      <td>Juned Shaikh</td>\n",
              "      <td>AAA336</td>\n",
              "      <td>AAA336</td>\n",
              "      <td>MOHAMMED JUNED MOHAMMED SAUD SHAIKH</td>\n",
              "      <td>HS01</td>\n",
              "      <td>2023-01-02</td>\n",
              "    </tr>\n",
              "    <tr>\n",
              "      <th>25</th>\n",
              "      <td>33</td>\n",
              "      <td>Shashank Verma</td>\n",
              "      <td>AAA305</td>\n",
              "      <td>AAA305</td>\n",
              "      <td>SHASHANK KUMAR VERMA</td>\n",
              "      <td>SG01</td>\n",
              "      <td>2022-11-29</td>\n",
              "    </tr>\n",
              "    <tr>\n",
              "      <th>36</th>\n",
              "      <td>47</td>\n",
              "      <td>Deepti Chavan</td>\n",
              "      <td>AAA410</td>\n",
              "      <td>AAA410</td>\n",
              "      <td>DEEPTI PRASAD CHAVAN</td>\n",
              "      <td>HS01</td>\n",
              "      <td>2023-01-27</td>\n",
              "    </tr>\n",
              "  </tbody>\n",
              "</table>\n",
              "</div>"
            ],
            "text/plain": [
              "    Sr. No.     Name of Employee     UCC Client Code  \\\n",
              "3         6   Isha Sameer Kamdar  AAA292      AAA292   \n",
              "9        14      Harsha Khorana   AAB698      AAB698   \n",
              "16       23  Kiran Bapurao Pawar  AAA230      AAA230   \n",
              "22       30         Juned Shaikh  AAA336      AAA336   \n",
              "25       33       Shashank Verma  AAA305      AAA305   \n",
              "36       47        Deepti Chavan  AAA410      AAA410   \n",
              "\n",
              "                                   Name Branch Ac Open Date  \n",
              "3                    ISHA SAMEER KAMDAR   SK01   2022-11-15  \n",
              "9                UDAY PARASHURAM RENAKE   PD02   2023-08-29  \n",
              "16                  KIRAN BAPURAO PAWAR   HS01   2022-10-11  \n",
              "22  MOHAMMED JUNED MOHAMMED SAUD SHAIKH   HS01   2023-01-02  \n",
              "25                 SHASHANK KUMAR VERMA   SG01   2022-11-29  \n",
              "36                 DEEPTI PRASAD CHAVAN   HS01   2023-01-27  "
            ]
          },
          "execution_count": 100,
          "metadata": {},
          "output_type": "execute_result"
        }
      ],
      "source": [
        "employee_customer_outside_dangal[employee_customer_outside_dangal['Branch']!='HO']"
      ]
    },
    {
      "cell_type": "code",
      "execution_count": null,
      "id": "fe4d7ad3",
      "metadata": {},
      "outputs": [],
      "source": []
    },
    {
      "cell_type": "code",
      "execution_count": 70,
      "id": "3b2b47dd",
      "metadata": {},
      "outputs": [],
      "source": [
        "normal_period_total_customer = total_number_customer-dangal_total_customer"
      ]
    },
    {
      "cell_type": "code",
      "execution_count": 71,
      "id": "868cc65b",
      "metadata": {},
      "outputs": [],
      "source": [
        "normal_period_ap_who_are_customer = count_of_AP_who_are_customer - dangal_count_of_AP_who_are_customer"
      ]
    },
    {
      "cell_type": "code",
      "execution_count": 72,
      "id": "8d928b73",
      "metadata": {},
      "outputs": [],
      "source": [
        "normal_period_customer_brought_by_ap = AP_Customer_count-dangal_AP_Customer_count"
      ]
    },
    {
      "cell_type": "code",
      "execution_count": 73,
      "id": "7d32f6aa",
      "metadata": {},
      "outputs": [],
      "source": [
        "normal_priod_employee_customer = employee_customer_count - dangal_employee_customer_count"
      ]
    },
    {
      "cell_type": "code",
      "execution_count": 74,
      "id": "8932557b",
      "metadata": {},
      "outputs": [],
      "source": [
        "normal_period = outside_client-dangal_outside_client"
      ]
    },
    {
      "cell_type": "code",
      "execution_count": 75,
      "id": "3a0eb4f0",
      "metadata": {},
      "outputs": [],
      "source": [
        "data3 = {\n",
        "    'Category': ['Total Customers', 'AP Who Are Customers', 'Customers Brought by AP', 'Employees Who Are Customers', 'Outside Customers'],\n",
        "    'Count': [normal_period_total_customer, normal_period_ap_who_are_customer, normal_period_customer_brought_by_ap, normal_priod_employee_customer, normal_period]\n",
        "}\n",
        "Normal_period_customer_overview = pd.DataFrame(data3)"
      ]
    },
    {
      "cell_type": "code",
      "execution_count": 76,
      "id": "fe72b3fa",
      "metadata": {},
      "outputs": [
        {
          "data": {
            "text/html": [
              "<div>\n",
              "<style scoped>\n",
              "    .dataframe tbody tr th:only-of-type {\n",
              "        vertical-align: middle;\n",
              "    }\n",
              "\n",
              "    .dataframe tbody tr th {\n",
              "        vertical-align: top;\n",
              "    }\n",
              "\n",
              "    .dataframe thead th {\n",
              "        text-align: right;\n",
              "    }\n",
              "</style>\n",
              "<table border=\"1\" class=\"dataframe\">\n",
              "  <thead>\n",
              "    <tr style=\"text-align: right;\">\n",
              "      <th></th>\n",
              "      <th>Category</th>\n",
              "      <th>Count</th>\n",
              "    </tr>\n",
              "  </thead>\n",
              "  <tbody>\n",
              "    <tr>\n",
              "      <th>0</th>\n",
              "      <td>Total Customers</td>\n",
              "      <td>1203</td>\n",
              "    </tr>\n",
              "    <tr>\n",
              "      <th>1</th>\n",
              "      <td>AP Who Are Customers</td>\n",
              "      <td>81</td>\n",
              "    </tr>\n",
              "    <tr>\n",
              "      <th>2</th>\n",
              "      <td>Customers Brought by AP</td>\n",
              "      <td>395</td>\n",
              "    </tr>\n",
              "    <tr>\n",
              "      <th>3</th>\n",
              "      <td>Employees Who Are Customers</td>\n",
              "      <td>64</td>\n",
              "    </tr>\n",
              "    <tr>\n",
              "      <th>4</th>\n",
              "      <td>Outside Customers</td>\n",
              "      <td>663</td>\n",
              "    </tr>\n",
              "  </tbody>\n",
              "</table>\n",
              "</div>"
            ],
            "text/plain": [
              "                      Category  Count\n",
              "0              Total Customers   1203\n",
              "1         AP Who Are Customers     81\n",
              "2      Customers Brought by AP    395\n",
              "3  Employees Who Are Customers     64\n",
              "4            Outside Customers    663"
            ]
          },
          "execution_count": 76,
          "metadata": {},
          "output_type": "execute_result"
        }
      ],
      "source": [
        "customer_overview"
      ]
    },
    {
      "cell_type": "code",
      "execution_count": 77,
      "id": "34c8ece6",
      "metadata": {},
      "outputs": [
        {
          "data": {
            "text/html": [
              "<div>\n",
              "<style scoped>\n",
              "    .dataframe tbody tr th:only-of-type {\n",
              "        vertical-align: middle;\n",
              "    }\n",
              "\n",
              "    .dataframe tbody tr th {\n",
              "        vertical-align: top;\n",
              "    }\n",
              "\n",
              "    .dataframe thead th {\n",
              "        text-align: right;\n",
              "    }\n",
              "</style>\n",
              "<table border=\"1\" class=\"dataframe\">\n",
              "  <thead>\n",
              "    <tr style=\"text-align: right;\">\n",
              "      <th></th>\n",
              "      <th>Category</th>\n",
              "      <th>Count</th>\n",
              "    </tr>\n",
              "  </thead>\n",
              "  <tbody>\n",
              "    <tr>\n",
              "      <th>0</th>\n",
              "      <td>Total Customers</td>\n",
              "      <td>472</td>\n",
              "    </tr>\n",
              "    <tr>\n",
              "      <th>1</th>\n",
              "      <td>AP Who Are Customers</td>\n",
              "      <td>1</td>\n",
              "    </tr>\n",
              "    <tr>\n",
              "      <th>2</th>\n",
              "      <td>Customers Brought by AP</td>\n",
              "      <td>104</td>\n",
              "    </tr>\n",
              "    <tr>\n",
              "      <th>3</th>\n",
              "      <td>Employees Who Are Customers</td>\n",
              "      <td>12</td>\n",
              "    </tr>\n",
              "    <tr>\n",
              "      <th>4</th>\n",
              "      <td>Outside Customers</td>\n",
              "      <td>355</td>\n",
              "    </tr>\n",
              "  </tbody>\n",
              "</table>\n",
              "</div>"
            ],
            "text/plain": [
              "                      Category  Count\n",
              "0              Total Customers    472\n",
              "1         AP Who Are Customers      1\n",
              "2      Customers Brought by AP    104\n",
              "3  Employees Who Are Customers     12\n",
              "4            Outside Customers    355"
            ]
          },
          "execution_count": 77,
          "metadata": {},
          "output_type": "execute_result"
        }
      ],
      "source": [
        "dangal_customer_overview"
      ]
    },
    {
      "cell_type": "code",
      "execution_count": 78,
      "id": "0e95e491",
      "metadata": {},
      "outputs": [
        {
          "data": {
            "text/html": [
              "<div>\n",
              "<style scoped>\n",
              "    .dataframe tbody tr th:only-of-type {\n",
              "        vertical-align: middle;\n",
              "    }\n",
              "\n",
              "    .dataframe tbody tr th {\n",
              "        vertical-align: top;\n",
              "    }\n",
              "\n",
              "    .dataframe thead th {\n",
              "        text-align: right;\n",
              "    }\n",
              "</style>\n",
              "<table border=\"1\" class=\"dataframe\">\n",
              "  <thead>\n",
              "    <tr style=\"text-align: right;\">\n",
              "      <th></th>\n",
              "      <th>Category</th>\n",
              "      <th>Count</th>\n",
              "    </tr>\n",
              "  </thead>\n",
              "  <tbody>\n",
              "    <tr>\n",
              "      <th>0</th>\n",
              "      <td>Total Customers</td>\n",
              "      <td>731</td>\n",
              "    </tr>\n",
              "    <tr>\n",
              "      <th>1</th>\n",
              "      <td>AP Who Are Customers</td>\n",
              "      <td>80</td>\n",
              "    </tr>\n",
              "    <tr>\n",
              "      <th>2</th>\n",
              "      <td>Customers Brought by AP</td>\n",
              "      <td>291</td>\n",
              "    </tr>\n",
              "    <tr>\n",
              "      <th>3</th>\n",
              "      <td>Employees Who Are Customers</td>\n",
              "      <td>52</td>\n",
              "    </tr>\n",
              "    <tr>\n",
              "      <th>4</th>\n",
              "      <td>Outside Customers</td>\n",
              "      <td>308</td>\n",
              "    </tr>\n",
              "  </tbody>\n",
              "</table>\n",
              "</div>"
            ],
            "text/plain": [
              "                      Category  Count\n",
              "0              Total Customers    731\n",
              "1         AP Who Are Customers     80\n",
              "2      Customers Brought by AP    291\n",
              "3  Employees Who Are Customers     52\n",
              "4            Outside Customers    308"
            ]
          },
          "execution_count": 78,
          "metadata": {},
          "output_type": "execute_result"
        }
      ],
      "source": [
        "Normal_period_customer_overview"
      ]
    },
    {
      "cell_type": "code",
      "execution_count": null,
      "id": "8ceb7bf0",
      "metadata": {},
      "outputs": [],
      "source": []
    }
  ],
  "metadata": {
    "kernelspec": {
      "display_name": "Python 3 (ipykernel)",
      "language": "python",
      "name": "python3"
    },
    "language_info": {
      "codemirror_mode": {
        "name": "ipython",
        "version": 3
      },
      "file_extension": ".py",
      "mimetype": "text/x-python",
      "name": "python",
      "nbconvert_exporter": "python",
      "pygments_lexer": "ipython3",
      "version": "3.10.9"
    }
  },
  "nbformat": 4,
  "nbformat_minor": 5
} 
